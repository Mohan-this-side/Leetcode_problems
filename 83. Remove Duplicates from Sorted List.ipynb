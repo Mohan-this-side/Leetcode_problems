{
 "cells": [
  {
   "cell_type": "markdown",
   "metadata": {},
   "source": [
    "Given the head of a sorted linked list, delete all duplicates such that each element appears only once. Return the linked list sorted as well.\n",
    "\n",
    " \n",
    "\n",
    "Example 1:\n",
    "\n",
    "\n",
    "Input: head = [1,1,2]\n",
    "Output: [1,2]\n",
    "Example 2:\n",
    "\n",
    "\n",
    "Input: head = [1,1,2,3,3]\n",
    "Output: [1,2,3]\n",
    " \n",
    "\n",
    "Constraints:\n",
    "\n",
    "The number of nodes in the list is in the range [0, 300].\n",
    "-100 <= Node.val <= 100\n",
    "The list is guaranteed to be sorted in ascending order."
   ]
  },
  {
   "cell_type": "code",
   "execution_count": null,
   "metadata": {},
   "outputs": [],
   "source": [
    "# Definition for singly-linked list.\n",
    "# class ListNode:\n",
    "#     def __init__(self, val=0, next=None):\n",
    "#         self.val = val\n",
    "#         self.next = next\n",
    "class Solution:\n",
    "    def deleteDuplicates(self, head: Optional[ListNode]) -> Optional[ListNode]:\n",
    "        \n",
    "        curr = head\n",
    "\n",
    "        while curr and curr.next:\n",
    "            if curr.val == curr.next.val:\n",
    "                curr.next = curr.next.next\n",
    "            else:\n",
    "                curr = curr.next\n",
    "\n",
    "        return head"
   ]
  }
 ],
 "metadata": {
  "language_info": {
   "name": "python"
  },
  "orig_nbformat": 4
 },
 "nbformat": 4,
 "nbformat_minor": 2
}
