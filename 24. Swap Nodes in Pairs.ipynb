{
 "cells": [
  {
   "cell_type": "markdown",
   "metadata": {},
   "source": [
    "Given a linked list, swap every two adjacent nodes and return its head. You must solve the problem without modifying the values in the list's nodes (i.e., only nodes themselves may be changed.)\n",
    "\n",
    " \n",
    "\n",
    "Example 1:\n",
    "\n",
    "\n",
    "Input: head = [1,2,3,4]\n",
    "Output: [2,1,4,3]\n",
    "Example 2:\n",
    "\n",
    "Input: head = []\n",
    "Output: []\n",
    "Example 3:\n",
    "\n",
    "Input: head = [1]\n",
    "Output: [1]\n",
    " \n",
    "\n",
    "Constraints:\n",
    "\n",
    "The number of nodes in the list is in the range [0, 100].\n",
    "0 <= Node.val <= 100"
   ]
  },
  {
   "cell_type": "code",
   "execution_count": null,
   "metadata": {},
   "outputs": [],
   "source": [
    "# Definition for singly-linked list.\n",
    "# class ListNode:\n",
    "#     def __init__(self, val=0, next=None):\n",
    "#         self.val = val\n",
    "#         self.next = next\n",
    "class Solution:\n",
    "    def swapPairs(self, head: Optional[ListNode]) -> Optional[ListNode]:\n",
    "        \n",
    "        if not head or not head.next:\n",
    "            return head\n",
    "\n",
    "        dummy = head.next\n",
    "        prev = None\n",
    "\n",
    "        while head and head.next:\n",
    "            if prev:\n",
    "                prev.next = head.next\n",
    "            prev = head\n",
    "\n",
    "            next_node = head.next.next\n",
    "            head.next.next = head\n",
    "\n",
    "            head.next = next_node\n",
    "            head = next_node\n",
    "\n",
    "        return dummy"
   ]
  }
 ],
 "metadata": {
  "language_info": {
   "name": "python"
  },
  "orig_nbformat": 4
 },
 "nbformat": 4,
 "nbformat_minor": 2
}
