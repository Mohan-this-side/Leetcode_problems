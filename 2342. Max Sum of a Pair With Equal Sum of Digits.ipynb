{
 "cells": [
  {
   "cell_type": "markdown",
   "metadata": {},
   "source": [
    "You are given a 0-indexed array nums consisting of positive integers. You can choose two indices i and j, such that i != j, and the sum of digits of the number nums[i] is equal to that of nums[j].\n",
    "\n",
    "Return the maximum value of nums[i] + nums[j] that you can obtain over all possible indices i and j that satisfy the conditions.\n",
    "\n",
    " \n",
    "\n",
    "Example 1:\n",
    "\n",
    "Input: nums = [18,43,36,13,7]\n",
    "Output: 54\n",
    "Explanation: The pairs (i, j) that satisfy the conditions are:\n",
    "- (0, 2), both numbers have a sum of digits equal to 9, and their sum is 18 + 36 = 54.\n",
    "- (1, 4), both numbers have a sum of digits equal to 7, and their sum is 43 + 7 = 50.\n",
    "So the maximum sum that we can obtain is 54.\n",
    "Example 2:\n",
    "\n",
    "Input: nums = [10,12,19,14]\n",
    "Output: -1\n",
    "Explanation: There are no two numbers that satisfy the conditions, so we return -1.\n",
    " \n",
    "\n"
   ]
  },
  {
   "cell_type": "code",
   "execution_count": null,
   "metadata": {},
   "outputs": [],
   "source": [
    "from collections import defaultdict\n",
    "\n",
    "class Solution:\n",
    "    def maximumSum(self, nums: List[int]) -> int:\n",
    "        \n",
    "        def get_digit_sum(num):\n",
    "            digit_sum = 0\n",
    "            while num:\n",
    "                digit_sum += num % 10\n",
    "                num //= 10\n",
    "            \n",
    "            return digit_sum\n",
    "        \n",
    "        dic = defaultdict(int)\n",
    "        ans = -1\n",
    "        for num in nums:\n",
    "            digit_sum = get_digit_sum(num)\n",
    "            if digit_sum in dic:\n",
    "                ans = max(ans, num + dic[digit_sum])\n",
    "            dic[digit_sum] = max(dic[digit_sum], num)\n",
    "\n",
    "        return ans"
   ]
  }
 ],
 "metadata": {
  "language_info": {
   "name": "python"
  },
  "orig_nbformat": 4
 },
 "nbformat": 4,
 "nbformat_minor": 2
}
