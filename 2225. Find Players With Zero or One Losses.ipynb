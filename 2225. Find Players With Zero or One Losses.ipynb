{
 "cells": [
  {
   "cell_type": "markdown",
   "metadata": {},
   "source": [
    "You are given an integer array matches where matches[i] = [winneri, loseri] indicates that the player winneri defeated player loseri in a match.\n",
    "\n",
    "Return a list answer of size 2 where:\n",
    "\n",
    "answer[0] is a list of all players that have not lost any matches.\n",
    "answer[1] is a list of all players that have lost exactly one match.\n",
    "The values in the two lists should be returned in increasing order.\n",
    "\n",
    "Note:\n",
    "\n",
    "You should only consider the players that have played at least one match.\n",
    "The testcases will be generated such that no two matches will have the same outcome.\n",
    " \n",
    "\n",
    "Example 1:\n",
    "\n",
    "Input: matches = [[1,3],[2,3],[3,6],[5,6],[5,7],[4,5],[4,8],[4,9],[10,4],[10,9]]\n",
    "Output: [[1,2,10],[4,5,7,8]]\n",
    "Explanation:\n",
    "Players 1, 2, and 10 have not lost any matches.\n",
    "Players 4, 5, 7, and 8 each have lost one match.\n",
    "Players 3, 6, and 9 each have lost two matches.\n",
    "Thus, answer[0] = [1,2,10] and answer[1] = [4,5,7,8].\n",
    "Example 2:\n",
    "\n",
    "Input: matches = [[2,3],[1,3],[5,4],[6,4]]\n",
    "Output: [[1,2,5,6],[]]\n",
    "Explanation:\n",
    "Players 1, 2, 5, and 6 have not lost any matches.\n",
    "Players 3 and 4 each have lost two matches.\n",
    "Thus, answer[0] = [1,2,5,6] and answer[1] = [].\n",
    " \n",
    "\n",
    "Constraints:\n",
    "\n",
    "1 <= matches.length <= 105\n",
    "matches[i].length == 2\n",
    "1 <= winneri, loseri <= 105\n",
    "winneri != loseri\n",
    "All matches[i] are unique."
   ]
  },
  {
   "cell_type": "code",
   "execution_count": null,
   "metadata": {},
   "outputs": [],
   "source": [
    "from collections import defaultdict\n",
    "\n",
    "class Solution:\n",
    "    def findWinners(self, matches: List[List[int]]) -> List[List[int]]:\n",
    "        \n",
    "        countwinners = defaultdict(int)\n",
    "        countlosers = defaultdict(int)\n",
    "        ans1 = []\n",
    "        ans2 = []\n",
    "        \n",
    "        for i in matches:\n",
    "            countwinners[i[0]] += 1\n",
    "            countlosers[i[1]] += 1\n",
    "\n",
    "        for key in countwinners:\n",
    "            if key not in countlosers:\n",
    "                ans1.append(key)\n",
    "\n",
    "        for key2 in countlosers:\n",
    "            if countlosers[key2]==1:\n",
    "                ans2.append(key2)\n",
    "        \n",
    "        return [sorted(ans1),sorted(ans2)]"
   ]
  }
 ],
 "metadata": {
  "language_info": {
   "name": "python"
  },
  "orig_nbformat": 4
 },
 "nbformat": 4,
 "nbformat_minor": 2
}
