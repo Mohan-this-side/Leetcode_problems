{
 "cells": [
  {
   "cell_type": "markdown",
   "metadata": {},
   "source": [
    "Given a string s, reverse the string according to the following rules:\n",
    "\n",
    "All the characters that are not English letters remain in the same position.\n",
    "All the English letters (lowercase or uppercase) should be reversed.\n",
    "Return s after reversing it.\n",
    "\n",
    " \n",
    "\n",
    "Example 1:\n",
    "\n",
    "Input: s = \"ab-cd\"\n",
    "Output: \"dc-ba\"\n",
    "Example 2:\n",
    "\n",
    "Input: s = \"a-bC-dEf-ghIj\"\n",
    "Output: \"j-Ih-gfE-dCba\"\n",
    "Example 3:\n",
    "\n",
    "Input: s = \"Test1ng-Leet=code-Q!\"\n",
    "Output: \"Qedo1ct-eeLg=ntse-T!\""
   ]
  },
  {
   "cell_type": "markdown",
   "metadata": {},
   "source": [
    "### My Solution:"
   ]
  },
  {
   "cell_type": "code",
   "execution_count": null,
   "metadata": {},
   "outputs": [],
   "source": [
    "class Solution:\n",
    "    def reverseOnlyLetters(self, s: str) -> str:\n",
    "\n",
    "        size = len(s)\n",
    "        \n",
    "        # convert into array of characters, The asterisk (*) operator is called the unpacking operator\n",
    "        array = [*s]\n",
    "        \n",
    "        # two pointers, initialized with boundary index\n",
    "        left, right = 0, size-1\n",
    "        \n",
    "        #  swap english letter with two-pointers\n",
    "        while left < right:\n",
    "            \n",
    "            # keep moving until we meet english letter on left hand side\n",
    "            if not array[left].isalpha():\n",
    "                left += 1\n",
    "                continue\n",
    "            \n",
    "            # keep moving until we meet english letter on right hand side\n",
    "            if not array[right].isalpha():\n",
    "                right -= 1\n",
    "                continue\n",
    "            \n",
    "            # swap english letters\n",
    "            array[left], array[right] = array[right], array[left]\n",
    "            \n",
    "            # update index of two pointer\n",
    "            left, right = left+1, right-1\n",
    "        \n",
    "        \n",
    "        # convert to string and output\n",
    "        return \"\".join(array)"
   ]
  }
 ],
 "metadata": {
  "language_info": {
   "name": "python"
  },
  "orig_nbformat": 4
 },
 "nbformat": 4,
 "nbformat_minor": 2
}
