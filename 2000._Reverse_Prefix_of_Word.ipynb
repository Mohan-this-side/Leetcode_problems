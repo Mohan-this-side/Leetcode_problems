{
 "cells": [
  {
   "cell_type": "markdown",
   "metadata": {},
   "source": [
    "Given a 0-indexed string word and a character ch, reverse the segment of word that starts at index 0 and ends at the index of the first occurrence of ch (inclusive). If the character ch does not exist in word, do nothing.\n",
    "\n",
    "For example, if word = \"abcdefd\" and ch = \"d\", then you should reverse the segment that starts at 0 and ends at 3 (inclusive). The resulting string will be \"dcbaefd\".\n",
    "Return the resulting string.\n",
    "\n",
    " \n",
    "\n",
    "Example 1:\n",
    "\n",
    "Input: word = \"abcdefd\", ch = \"d\"\n",
    "Output: \"dcbaefd\"\n",
    "Explanation: The first occurrence of \"d\" is at index 3. \n",
    "Reverse the part of word from 0 to 3 (inclusive), the resulting string is \"dcbaefd\".\n",
    "Example 2:\n",
    "\n",
    "Input: word = \"xyxzxe\", ch = \"z\"\n",
    "Output: \"zxyxxe\"\n",
    "Explanation: The first and only occurrence of \"z\" is at index 3.\n",
    "Reverse the part of word from 0 to 3 (inclusive), the resulting string is \"zxyxxe\".\n",
    "Example 3:\n",
    "\n",
    "Input: word = \"abcd\", ch = \"z\"\n",
    "Output: \"abcd\"\n",
    "Explanation: \"z\" does not exist in word.\n",
    "You should not do any reverse operation, the resulting string is \"abcd\".\n",
    " \n",
    "\n",
    "Constraints:\n",
    "\n",
    "1 <= word.length <= 250\n",
    "word consists of lowercase English letters.\n",
    "ch is a lowercase English letter."
   ]
  },
  {
   "cell_type": "code",
   "execution_count": null,
   "metadata": {},
   "outputs": [],
   "source": [
    "class Solution:\n",
    "    def reversePrefix(self, word: str, ch: str) -> str:\n",
    "        if ch not in word:\n",
    "            return word\n",
    "        \n",
    "        ind = word.index(ch)\n",
    "\n",
    "        return word[0:ind+1:][::-1]+word[ind+1::]"
   ]
  }
 ],
 "metadata": {
  "language_info": {
   "name": "python"
  },
  "orig_nbformat": 4
 },
 "nbformat": 4,
 "nbformat_minor": 2
}
