{
 "cells": [
  {
   "cell_type": "markdown",
   "metadata": {},
   "source": [
    "Given an input string s, reverse the order of the words.\n",
    "\n",
    "A word is defined as a sequence of non-space characters. The words in s will be separated by at least one space.\n",
    "\n",
    "Return a string of the words in reverse order concatenated by a single space.\n",
    "\n",
    "Note that s may contain leading or trailing spaces or multiple spaces between two words. The returned string should only have a single space separating the words. Do not include any extra spaces.\n",
    "\n",
    " \n",
    "\n",
    "Example 1:\n",
    "\n",
    "Input: s = \"the sky is blue\"\n",
    "Output: \"blue is sky the\"\n",
    "Example 2:\n",
    "\n",
    "Input: s = \"  hello world  \"\n",
    "Output: \"world hello\"\n",
    "Explanation: Your reversed string should not contain leading or trailing spaces.\n",
    "Example 3:\n",
    "\n",
    "Input: s = \"a good   example\"\n",
    "Output: \"example good a\"\n",
    "Explanation: You need to reduce multiple spaces between two words to a single space in the reversed string."
   ]
  },
  {
   "cell_type": "markdown",
   "metadata": {},
   "source": [
    "### My solution:"
   ]
  },
  {
   "cell_type": "code",
   "execution_count": null,
   "metadata": {},
   "outputs": [],
   "source": [
    "class Solution:\n",
    "    def reverseWords(self, s: str) -> str:\n",
    "        return \" \".join(s.split()[::-1])"
   ]
  },
  {
   "cell_type": "markdown",
   "metadata": {},
   "source": [
    "### A little better solution without split:"
   ]
  },
  {
   "cell_type": "code",
   "execution_count": null,
   "metadata": {},
   "outputs": [],
   "source": [
    "class Solution:\n",
    "    def reverseWords(self, s: str) -> str:\n",
    "        res = []\n",
    "        temp = \"\"\n",
    "        for c in s:\n",
    "            if c != \" \":\n",
    "                temp += c \n",
    "            elif temp != \"\":\n",
    "                res.append(temp)\n",
    "                temp = \"\"\n",
    "        if temp != \"\":\n",
    "            res.append(temp)\n",
    "        return \" \".join(res[::-1])"
   ]
  }
 ],
 "metadata": {
  "language_info": {
   "name": "python"
  },
  "orig_nbformat": 4
 },
 "nbformat": 4,
 "nbformat_minor": 2
}
