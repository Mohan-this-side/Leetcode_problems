{
 "cells": [
  {
   "cell_type": "code",
   "execution_count": null,
   "metadata": {},
   "outputs": [],
   "source": [
    "class Solution:\n",
    "    def sortedSquares(self, nums: List[int]) -> List[int]:\n",
    "        \n",
    "        n = len(nums)\n",
    "        result = [0] * n\n",
    "        left = 0\n",
    "        right = len(nums)-1\n",
    "\n",
    "        for i in range(n-1,-1,-1):\n",
    "            square = int()\n",
    "            if abs(nums[left])<abs(nums[right]):\n",
    "                square = nums[right]*nums[right]\n",
    "                right = right - 1\n",
    "            else:\n",
    "                square = nums[left] * nums[left]\n",
    "                left = left + 1\n",
    "\n",
    "            result[i] = square\n",
    "\n",
    "        return result  \n",
    "\n",
    "        \n",
    "        "
   ]
  }
 ],
 "metadata": {
  "language_info": {
   "name": "python"
  },
  "orig_nbformat": 4
 },
 "nbformat": 4,
 "nbformat_minor": 2
}
