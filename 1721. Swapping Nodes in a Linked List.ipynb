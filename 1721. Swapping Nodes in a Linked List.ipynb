{
 "cells": [
  {
   "cell_type": "markdown",
   "metadata": {},
   "source": [
    "You are given the head of a linked list, and an integer k.\n",
    "\n",
    "Return the head of the linked list after swapping the values of the kth node from the beginning and the kth node from the end (the list is 1-indexed).\n",
    "\n",
    " \n",
    "\n",
    "Example 1:\n",
    "\n",
    "\n",
    "Input: head = [1,2,3,4,5], k = 2\n",
    "Output: [1,4,3,2,5]\n",
    "Example 2:\n",
    "\n",
    "Input: head = [7,9,6,6,7,8,3,0,9,5], k = 5\n",
    "Output: [7,9,6,6,8,7,3,0,9,5]\n",
    " \n",
    "\n",
    "Constraints:\n",
    "\n",
    "The number of nodes in the list is n.\n",
    "1 <= k <= n <= 105\n",
    "0 <= Node.val <= 100"
   ]
  },
  {
   "cell_type": "code",
   "execution_count": null,
   "metadata": {},
   "outputs": [],
   "source": [
    "# Definition for singly-linked list.\n",
    "# class ListNode:\n",
    "#     def __init__(self, val=0, next=None):\n",
    "#         self.val = val\n",
    "#         self.next = next\n",
    "class Solution:\n",
    "    def swapNodes(self, head: Optional[ListNode], k: int) -> Optional[ListNode]:\n",
    "        # running two pointers (left and right)\n",
    "        cur = head\n",
    "        for i in range(k-1):\n",
    "            cur = cur.next\n",
    "        \n",
    "        left = cur\n",
    "        right = head\n",
    "        # after this while loop right pointer will be at kth point from the back\n",
    "        while cur.next:\n",
    "            cur = cur.next\n",
    "            right = right.next\n",
    "        # switching the values\n",
    "        tmp = left.val\n",
    "        left.val = right.val\n",
    "        right.val = tmp\n",
    "\n",
    "        return head"
   ]
  }
 ],
 "metadata": {
  "language_info": {
   "name": "python"
  },
  "orig_nbformat": 4
 },
 "nbformat": 4,
 "nbformat_minor": 2
}
