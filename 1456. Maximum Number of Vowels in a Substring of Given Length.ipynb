{
 "cells": [
  {
   "cell_type": "markdown",
   "metadata": {},
   "source": [
    "Given a string s and an integer k, return the maximum number of vowel letters in any substring of s with length k.\n",
    "\n",
    "Vowel letters in English are 'a', 'e', 'i', 'o', and 'u'.\n",
    "\n",
    " \n",
    "\n",
    "Example 1:\n",
    "\n",
    "Input: s = \"abciiidef\", k = 3\n",
    "Output: 3\n",
    "Explanation: The substring \"iii\" contains 3 vowel letters.\n",
    "Example 2:\n",
    "\n",
    "Input: s = \"aeiou\", k = 2\n",
    "Output: 2\n",
    "Explanation: Any substring of length 2 contains 2 vowels.\n",
    "Example 3:\n",
    "\n",
    "Input: s = \"leetcode\", k = 3\n",
    "Output: 2\n",
    "Explanation: \"lee\", \"eet\" and \"ode\" contain 2 vowels."
   ]
  },
  {
   "cell_type": "code",
   "execution_count": null,
   "metadata": {},
   "outputs": [],
   "source": [
    "class Solution:\n",
    "    def maxVowels(self, s: str, k: int) -> int:\n",
    "        vowels = {'a', 'e', 'i', 'o', 'u'}\n",
    "        \n",
    "        # Build the window of size k, count the number of vowels it contains.\n",
    "        count = 0\n",
    "        for i in range(k):\n",
    "            count += int(s[i] in vowels)\n",
    "        answer = count\n",
    "        \n",
    "        # Slide the window to the right, focus on the added character and the\n",
    "        # removed character and update \"count\". Record the largest \"count\".\n",
    "        for i in range(k, len(s)):\n",
    "            count += int(s[i] in vowels)\n",
    "            count -= int(s[i - k] in vowels)\n",
    "            answer = max(answer, count)\n",
    "        \n",
    "        return answer"
   ]
  }
 ],
 "metadata": {
  "language_info": {
   "name": "python"
  },
  "orig_nbformat": 4
 },
 "nbformat": 4,
 "nbformat_minor": 2
}
