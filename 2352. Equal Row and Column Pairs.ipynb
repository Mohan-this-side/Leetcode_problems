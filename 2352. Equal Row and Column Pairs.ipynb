{
 "cells": [
  {
   "cell_type": "markdown",
   "metadata": {},
   "source": [
    "Given a 0-indexed n x n integer matrix grid, return the number of pairs (ri, cj) such that row ri and column cj are equal.\n",
    "\n",
    "A row and column pair is considered equal if they contain the same elements in the same order (i.e., an equal array).\n",
    "\n",
    " \n",
    "\n",
    "Example 1:\n",
    "\n",
    "\n",
    "Input: grid = [[3,2,1],[1,7,6],[2,7,7]]\n",
    "Output: 1\n",
    "Explanation: There is 1 equal row and column pair:\n",
    "- (Row 2, Column 1): [2,7,7]\n",
    "Example 2:\n",
    "\n",
    "\n",
    "Input: grid = [[3,1,2,2],[1,4,4,5],[2,4,2,2],[2,4,2,2]]\n",
    "Output: 3\n",
    "Explanation: There are 3 equal row and column pairs:\n",
    "- (Row 0, Column 0): [3,1,2,2]\n",
    "- (Row 2, Column 2): [2,4,2,2]\n",
    "- (Row 3, Column 2): [2,4,2,2]\n",
    " \n",
    "\n",
    "Constraints:\n",
    "\n",
    "n == grid.length == grid[i].length\n",
    "1 <= n <= 200\n",
    "1 <= grid[i][j] <= 105"
   ]
  },
  {
   "cell_type": "code",
   "execution_count": null,
   "metadata": {},
   "outputs": [],
   "source": [
    "from collections import defaultdict\n",
    "\n",
    "class Solution:\n",
    "    def equalPairs(self, grid: List[List[int]]) -> int:\n",
    "\n",
    "        def convert_key(arr):\n",
    "            return tuple(arr)\n",
    "\n",
    "        dic = defaultdict(int)\n",
    "        for row in grid:\n",
    "            dic[convert_key(row)] += 1\n",
    "        \n",
    "        dic2 = defaultdict(int)\n",
    "\n",
    "        for col in range(len(grid[0])):\n",
    "            curr_col = []\n",
    "            for row in range(len(grid)):\n",
    "                curr_col.append(grid[row][col])\n",
    "\n",
    "            dic2[convert_key(curr_col)] += 1\n",
    "\n",
    "        ans = 0 \n",
    "        for arr in dic:\n",
    "            ans += dic[arr] * dic2[arr]\n",
    "            \n",
    "        return ans\n",
    "            \n",
    "        "
   ]
  }
 ],
 "metadata": {
  "language_info": {
   "name": "python"
  },
  "orig_nbformat": 4
 },
 "nbformat": 4,
 "nbformat_minor": 2
}
