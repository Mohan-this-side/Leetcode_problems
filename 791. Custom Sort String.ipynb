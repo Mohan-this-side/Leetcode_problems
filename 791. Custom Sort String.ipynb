{
 "cells": [
  {
   "cell_type": "markdown",
   "metadata": {},
   "source": [
    "You are given two strings order and s. All the characters of order are unique and were sorted in some custom order previously.\n",
    "\n",
    "Permute the characters of s so that they match the order that order was sorted. More specifically, if a character x occurs before a character y in order, then x should occur before y in the permuted string.\n",
    "\n",
    "Return any permutation of s that satisfies this property.\n",
    "\n",
    " \n",
    "\n",
    "Example 1:\n",
    "\n",
    "Input: order = \"cba\", s = \"abcd\"\n",
    "Output: \"cbad\"\n",
    "Explanation: \n",
    "\"a\", \"b\", \"c\" appear in order, so the order of \"a\", \"b\", \"c\" should be \"c\", \"b\", and \"a\". \n",
    "Since \"d\" does not appear in order, it can be at any position in the returned string. \"dcba\", \"cdba\", \"cbda\" are also valid outputs.\n",
    "Example 2:\n",
    "\n",
    "Input: order = \"cbafg\", s = \"abcd\"\n",
    "Output: \"cbad\"\n",
    " \n",
    "\n",
    "Constraints:\n",
    "\n",
    "1 <= order.length <= 26\n",
    "1 <= s.length <= 200\n",
    "order and s consist of lowercase English letters.\n",
    "All the characters of order are unique."
   ]
  },
  {
   "cell_type": "code",
   "execution_count": null,
   "metadata": {},
   "outputs": [],
   "source": [
    "class Solution:\n",
    "    def customSortString(self, order: str, s: str) -> str:\n",
    "        \n",
    "        s_count=Counter(s)\n",
    "        order_count=Counter(order)\n",
    "        ans=\"\"\n",
    "        for i in order:\n",
    "            ans+=i*s_count[i]\n",
    "        for i in s:\n",
    "            if i not in order_count:\n",
    "                ans+=i\n",
    "        return ans \n"
   ]
  }
 ],
 "metadata": {
  "language_info": {
   "name": "python"
  },
  "orig_nbformat": 4
 },
 "nbformat": 4,
 "nbformat_minor": 2
}
