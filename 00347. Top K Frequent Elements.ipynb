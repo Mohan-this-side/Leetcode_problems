{
 "cells": [
  {
   "cell_type": "markdown",
   "metadata": {},
   "source": [
    "Given an integer array nums and an integer k, return the k most frequent elements. You may return the answer in any order.\n",
    "\n",
    " \n",
    "\n",
    "Example 1:\n",
    "\n",
    "Input: nums = [1,1,1,2,2,3], k = 2\n",
    "Output: [1,2]\n",
    "Example 2:\n",
    "\n",
    "Input: nums = [1], k = 1\n",
    "Output: [1]\n",
    " \n",
    "\n",
    "Constraints:\n",
    "\n",
    "1 <= nums.length <= 105\n",
    "-104 <= nums[i] <= 104\n",
    "k is in the range [1, the number of unique elements in the array].\n",
    "It is guaranteed that the answer is unique.\n",
    " \n",
    "\n",
    "Follow up: Your algorithm's time complexity must be better than O(n log n), where n is the array's size."
   ]
  },
  {
   "cell_type": "code",
   "execution_count": null,
   "metadata": {},
   "outputs": [],
   "source": [
    "class Solution:\n",
    "    def topKFrequent(self, nums: List[int], k: int) -> List[int]:\n",
    "        '''\n",
    "        My solotion:\n",
    "        con = collections.Counter(nums) # val -> freq\n",
    "        arr = []\n",
    "        sorted_dict = sorted(con.items(),key=lambda item:item[1],reverse=True)\n",
    "        for i in range(k):\n",
    "            arr.append(sorted_dict[i][0])\n",
    "\n",
    "        return arr\n",
    "        '''\n",
    "        #solution with bucket sort:\n",
    "        count = {} # val -> freq\n",
    "        freq = [[] for i in range(len(nums)+1)]\n",
    "\n",
    "        for n in nums:\n",
    "            count[n] = 1 + count.get(n,0)\n",
    "        for n,c in count.items():\n",
    "            freq[c].append(n)\n",
    "\n",
    "        res = []\n",
    "\n",
    "        for i in range(len(freq)-1,0,-1):\n",
    "            for n in freq[i]:\n",
    "                res.append(n)\n",
    "                if len(res)==k :\n",
    "                    return res"
   ]
  }
 ],
 "metadata": {
  "language_info": {
   "name": "python"
  },
  "orig_nbformat": 4
 },
 "nbformat": 4,
 "nbformat_minor": 2
}
