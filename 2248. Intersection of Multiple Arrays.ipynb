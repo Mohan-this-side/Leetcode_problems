{
 "cells": [
  {
   "cell_type": "markdown",
   "metadata": {},
   "source": [
    "Given a 2D integer array nums where nums[i] is a non-empty array of distinct positive integers, return the list of integers that are present in each array of nums sorted in ascending order.\n",
    " \n",
    "\n",
    "Example 1:\n",
    "\n",
    "Input: nums = [[3,1,2,4,5],[1,2,3,4],[3,4,5,6]]\n",
    "Output: [3,4]\n",
    "Explanation: \n",
    "The only integers present in each of nums[0] = [3,1,2,4,5], nums[1] = [1,2,3,4], and nums[2] = [3,4,5,6] are 3 and 4, so we return [3,4].\n",
    "Example 2:\n",
    "\n",
    "Input: nums = [[1,2,3],[4,5,6]]\n",
    "Output: []\n",
    "Explanation: \n",
    "There does not exist any integer present both in nums[0] and nums[1], so we return an empty list [].\n",
    " \n",
    "\n",
    "Constraints:\n",
    "\n",
    "1 <= nums.length <= 1000\n",
    "1 <= sum(nums[i].length) <= 1000\n",
    "1 <= nums[i][j] <= 1000\n",
    "All the values of nums[i] are unique."
   ]
  },
  {
   "cell_type": "code",
   "execution_count": null,
   "metadata": {},
   "outputs": [],
   "source": [
    "from collections import defaultdict\n",
    "\n",
    "class Solution:\n",
    "    def intersection(self, nums: List[List[int]]) -> List[int]:\n",
    "        \n",
    "        counts = defaultdict(int)\n",
    "\n",
    "        for i in nums:\n",
    "            for right in i:\n",
    "                counts[right] += 1\n",
    "\n",
    "        n = len(nums)\n",
    "        ans = []\n",
    "        for key in counts:\n",
    "            if counts[key] == n:\n",
    "                ans.append(key)\n",
    "\n",
    "        return sorted(ans)\n"
   ]
  }
 ],
 "metadata": {
  "language_info": {
   "name": "python"
  },
  "orig_nbformat": 4
 },
 "nbformat": 4,
 "nbformat_minor": 2
}
