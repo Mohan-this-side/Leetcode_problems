{
 "cells": [
  {
   "cell_type": "markdown",
   "metadata": {},
   "source": [
    "Given a string path, where path[i] = 'N', 'S', 'E' or 'W', each representing moving one unit north, south, east, or west, respectively. You start at the origin (0, 0) on a 2D plane and walk on the path specified by path.\n",
    "\n",
    "Return true if the path crosses itself at any point, that is, if at any time you are on a location you have previously visited. Return false otherwise.\n",
    "\n",
    " \n",
    "\n",
    "Example 1:\n",
    "\n",
    "\n",
    "Input: path = \"NES\"\n",
    "Output: false \n",
    "Explanation: Notice that the path doesn't cross any point more than once.\n",
    "Example 2:\n",
    "\n",
    "\n",
    "Input: path = \"NESWW\"\n",
    "Output: true\n",
    "Explanation: Notice that the path visits the origin twice.\n",
    " \n",
    "\n",
    "Constraints:\n",
    "\n",
    "1 <= path.length <= 104\n",
    "path[i] is either 'N', 'S', 'E', or 'W'."
   ]
  },
  {
   "cell_type": "code",
   "execution_count": null,
   "metadata": {},
   "outputs": [],
   "source": [
    "class Solution:\n",
    "    def isPathCrossing(self, path: str) -> bool:\n",
    "        \n",
    "        d = [[0,0]]\n",
    "        x,y= 0,0\n",
    "\n",
    "        for i in path:\n",
    "            if i==\"N\":\n",
    "                y += 1\n",
    "            elif i == \"E\":\n",
    "                x += 1\n",
    "            elif i==\"W\":\n",
    "                x -= 1\n",
    "            else:\n",
    "                y -= 1\n",
    "            if [x,y] in d:\n",
    "                return True\n",
    "            d.append([x,y])\n",
    "        \n",
    "        return False"
   ]
  }
 ],
 "metadata": {
  "language_info": {
   "name": "python"
  },
  "orig_nbformat": 4
 },
 "nbformat": 4,
 "nbformat_minor": 2
}
