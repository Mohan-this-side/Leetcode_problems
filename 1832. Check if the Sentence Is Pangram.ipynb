{
 "cells": [
  {
   "cell_type": "markdown",
   "metadata": {},
   "source": [
    "A pangram is a sentence where every letter of the English alphabet appears at least once.\n",
    "\n",
    "Given a string sentence containing only lowercase English letters, return true if sentence is a pangram, or false otherwise.\n",
    "\n",
    " \n",
    "\n",
    "Example 1:\n",
    "\n",
    "Input: sentence = \"thequickbrownfoxjumpsoverthelazydog\"\n",
    "Output: true\n",
    "Explanation: sentence contains at least one of every letter of the English alphabet.\n",
    "Example 2:\n",
    "\n",
    "Input: sentence = \"leetcode\"\n",
    "Output: false\n",
    " \n",
    "\n",
    "Constraints:\n",
    "\n",
    "1 <= sentence.length <= 1000\n",
    "sentence consists of lowercase English letters."
   ]
  },
  {
   "cell_type": "code",
   "execution_count": null,
   "metadata": {},
   "outputs": [],
   "source": [
    "class Solution:\n",
    "    def checkIfPangram(self, sentence: str) -> bool:\n",
    "        \n",
    "        have = set(sentence)\n",
    "        \n",
    "        return len(have)==26\n",
    "        \n"
   ]
  }
 ],
 "metadata": {
  "language_info": {
   "name": "python"
  },
  "orig_nbformat": 4
 },
 "nbformat": 4,
 "nbformat_minor": 2
}
