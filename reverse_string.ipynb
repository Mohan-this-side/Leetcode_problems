{
 "cells": [
  {
   "cell_type": "code",
   "execution_count": null,
   "metadata": {},
   "outputs": [],
   "source": [
    "class Solution:\n",
    "    def reverseString(self, s: List[str]) -> None:\n",
    "        \"\"\"\n",
    "        Do not return anything, modify s in-place instead.\n",
    "        \"\"\"\n",
    "        left = 0\n",
    "        right = len(s)-1\n",
    "        while left < right:\n",
    "            temp=s[left]\n",
    "            s[left]=s[right]\n",
    "            s[right]=temp\n",
    "            left=left +1\n",
    "            right= right-1 "
   ]
  }
 ],
 "metadata": {
  "language_info": {
   "name": "python"
  },
  "orig_nbformat": 4
 },
 "nbformat": 4,
 "nbformat_minor": 2
}
