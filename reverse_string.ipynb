{
 "cells": [
  {
   "cell_type": "code",
   "execution_count": null,
   "metadata": {},
   "outputs": [],
   "source": [
    "class Solution:\n",
    "    def reverseString(self, s: List[str]) -> None:\n",
    "        \"\"\"\n",
    "        Do not return anything, modify s in-place instead.\n",
    "        \"\"\"\n",
    "        left = 0\n",
    "        right = len(s)-1\n",
    "        while left < right:\n",
    "            temp=s[left]\n",
    "            s[left]=s[right]\n",
    "            s[right]=temp\n",
    "            left=left +1\n",
    "            right= right-1 "
   ]
  },
  {
   "cell_type": "code",
   "execution_count": 7,
   "metadata": {},
   "outputs": [
    {
     "name": "stdout",
     "output_type": "stream",
     "text": [
      "6\n"
     ]
    }
   ],
   "source": [
    "s = \"1101100111\"\n",
    "d = list(s)\n",
    "#print (len(s))\n",
    "#print (d)\n",
    "right = left = 0\n",
    "ans = 0\n",
    "count_of_zeros = 0\n",
    "\n",
    "for right in range(len(s)):\n",
    "    if d[right] == \"1\":\n",
    "        right += 1\n",
    "    else:\n",
    "        if count_of_zeros == 1:\n",
    "            left = right\n",
    "            right += 1 \n",
    "        else:\n",
    "            count_of_zeros += 1\n",
    "            right +=1\n",
    "    \n",
    "    ans= max(ans,right-left+1)\n",
    "\n",
    "print(ans)"
   ]
  },
  {
   "cell_type": "code",
   "execution_count": null,
   "metadata": {},
   "outputs": [],
   "source": []
  }
 ],
 "metadata": {
  "kernelspec": {
   "display_name": "usf_env",
   "language": "python",
   "name": "python3"
  },
  "language_info": {
   "codemirror_mode": {
    "name": "ipython",
    "version": 3
   },
   "file_extension": ".py",
   "mimetype": "text/x-python",
   "name": "python",
   "nbconvert_exporter": "python",
   "pygments_lexer": "ipython3",
   "version": "3.10.4"
  },
  "orig_nbformat": 4
 },
 "nbformat": 4,
 "nbformat_minor": 2
}
