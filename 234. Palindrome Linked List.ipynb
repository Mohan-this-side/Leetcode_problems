{
 "cells": [
  {
   "cell_type": "markdown",
   "metadata": {},
   "source": [
    "Given the head of a singly linked list, return true if it is a \n",
    "palindrome\n",
    " or false otherwise.\n",
    "\n",
    " \n",
    "\n",
    "Example 1:\n",
    "\n",
    "\n",
    "Input: head = [1,2,2,1]\n",
    "Output: true\n",
    "Example 2:\n",
    "\n",
    "\n",
    "Input: head = [1,2]\n",
    "Output: false\n",
    " \n",
    "\n",
    "Constraints:\n",
    "\n",
    "The number of nodes in the list is in the range [1, 105].\n",
    "0 <= Node.val <= 9\n",
    " \n",
    "\n",
    "Follow up: Could you do it in O(n) time and O(1) space?"
   ]
  },
  {
   "cell_type": "code",
   "execution_count": null,
   "metadata": {},
   "outputs": [],
   "source": [
    "# Definition for singly-linked list.\n",
    "# class ListNode:\n",
    "#     def __init__(self, val=0, next=None):\n",
    "#         self.val = val\n",
    "#         self.next = next\n",
    "class Solution:\n",
    "    def isPalindrome(self, head: Optional[ListNode]) -> bool:\n",
    "        #find the middle value (left)\n",
    "        prev = None\n",
    "        left = head\n",
    "        right = head\n",
    "        while right and right.next:\n",
    "            left = left.next\n",
    "            right = right.next.next\n",
    "        # reverse the second half\n",
    "        while left:\n",
    "            tmp = left.next\n",
    "            left.next = prev\n",
    "            prev = left\n",
    "            left = tmp\n",
    "        \n",
    "        # check for palindrome\n",
    "        leftside, rightside = head, prev\n",
    "        while rightside:\n",
    "            if leftside.val != rightside.val:\n",
    "                return False\n",
    "            leftside = leftside.next\n",
    "            rightside = rightside.next\n",
    "\n",
    "        return True"
   ]
  }
 ],
 "metadata": {
  "language_info": {
   "name": "python"
  },
  "orig_nbformat": 4
 },
 "nbformat": 4,
 "nbformat_minor": 2
}
