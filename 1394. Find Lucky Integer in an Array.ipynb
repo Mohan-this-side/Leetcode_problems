{
 "cells": [
  {
   "cell_type": "markdown",
   "metadata": {},
   "source": [
    "Given an array of integers arr, a lucky integer is an integer that has a frequency in the array equal to its value.\n",
    "\n",
    "Return the largest lucky integer in the array. If there is no lucky integer return -1.\n",
    "\n",
    " \n",
    "\n",
    "Example 1:\n",
    "\n",
    "Input: arr = [2,2,3,4]\n",
    "Output: 2\n",
    "Explanation: The only lucky number in the array is 2 because frequency[2] == 2.\n",
    "Example 2:\n",
    "\n",
    "Input: arr = [1,2,2,3,3,3]\n",
    "Output: 3\n",
    "Explanation: 1, 2 and 3 are all lucky numbers, return the largest of them.\n",
    "Example 3:\n",
    "\n",
    "Input: arr = [2,2,2,3,3]\n",
    "Output: -1\n",
    "Explanation: There are no lucky numbers in the array.\n",
    " \n",
    "\n",
    "Constraints:\n",
    "\n",
    "1 <= arr.length <= 500\n",
    "1 <= arr[i] <= 500"
   ]
  },
  {
   "cell_type": "code",
   "execution_count": null,
   "metadata": {},
   "outputs": [],
   "source": [
    "class Solution:\n",
    "    def findLucky(self, arr: List[int]) -> int:\n",
    "        '''my_solution:\n",
    "        dic = defaultdict(int)\n",
    "\n",
    "        for i in arr:\n",
    "            dic[i]+=1\n",
    "\n",
    "        large_lucky = 0\n",
    "        for i in set(arr):\n",
    "            if dic[i] == i:\n",
    "                large_lucky = max(i,large_lucky)\n",
    "        \n",
    "        if large_lucky == 0:\n",
    "            return -1\n",
    "        else:\n",
    "            return large_lucky'''\n",
    "\n",
    "        large = -1\n",
    "        unique = set(arr)\n",
    "        for item in unique:\n",
    "            count = arr.count(item)\n",
    "            if item == count:\n",
    "                large = max(large, item)              \n",
    "        return large\n"
   ]
  }
 ],
 "metadata": {
  "language_info": {
   "name": "python"
  },
  "orig_nbformat": 4
 },
 "nbformat": 4,
 "nbformat_minor": 2
}
