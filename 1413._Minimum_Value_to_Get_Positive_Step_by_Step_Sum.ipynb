{
 "cells": [
  {
   "cell_type": "markdown",
   "metadata": {},
   "source": [
    "Given an array of integers nums, you start with an initial positive value startValue.\n",
    "\n",
    "In each iteration, you calculate the step by step sum of startValue plus elements in nums (from left to right).\n",
    "\n",
    "Return the minimum positive value of startValue such that the step by step sum is never less than 1.\n",
    "\n",
    " \n",
    "\n",
    "Example 1:\n",
    "\n",
    "Input: nums = [-3,2,-3,4,2]\n",
    "Output: 5\n",
    "Explanation: If you choose startValue = 4, in the third iteration your step by step sum is less than 1.\n",
    "step by step sum\n",
    "startValue = 4 | startValue = 5 | nums\n",
    "  (4 -3 ) = 1  | (5 -3 ) = 2    |  -3\n",
    "  (1 +2 ) = 3  | (2 +2 ) = 4    |   2\n",
    "  (3 -3 ) = 0  | (4 -3 ) = 1    |  -3\n",
    "  (0 +4 ) = 4  | (1 +4 ) = 5    |   4\n",
    "  (4 +2 ) = 6  | (5 +2 ) = 7    |   2\n",
    "Example 2:\n",
    "\n",
    "Input: nums = [1,2]\n",
    "Output: 1\n",
    "Explanation: Minimum start value should be positive. \n",
    "Example 3:\n",
    "\n",
    "Input: nums = [1,-2,-3]\n",
    "Output: 5\n",
    " "
   ]
  },
  {
   "cell_type": "markdown",
   "metadata": {},
   "source": [
    "My Solution:"
   ]
  },
  {
   "cell_type": "code",
   "execution_count": null,
   "metadata": {},
   "outputs": [],
   "source": [
    "class Solution:\n",
    "    def minStartValue(self, nums: List[int]) -> int:\n",
    "        startValue=1\n",
    "        curr = 0 \n",
    "        i = 0\n",
    "\n",
    "        while i < (len(nums)):\n",
    "            if i==0:\n",
    "                curr = nums[i] + startValue\n",
    "            else:\n",
    "                curr += nums[i] \n",
    "            i += 1\n",
    "            if curr<1:\n",
    "                startValue += 1\n",
    "                i=0\n",
    "            \n",
    "        return startValue"
   ]
  },
  {
   "cell_type": "markdown",
   "metadata": {},
   "source": [
    "Official Solution:"
   ]
  },
  {
   "cell_type": "code",
   "execution_count": null,
   "metadata": {},
   "outputs": [],
   "source": [
    "class Solution:\n",
    "    def minStartValue(self, nums: List[int]) -> int:\n",
    "        # Start with startValue = 1. \n",
    "        start_value = 1\n",
    "\n",
    "        # While we haven't found the first valid startValue\n",
    "        while True:\n",
    "            # The step-by-step total \"total\" equals startValue at the beginning.\n",
    "            # Use boolean parameter \"isValid\" to record whether the total \n",
    "            # is larger than or equal to 1.\n",
    "            total = start_value\n",
    "            is_valid = True\n",
    "\n",
    "            # Iterate over the array \"nums\".\n",
    "            for num in nums:\n",
    "                # In each iteration, calculate \"total\" \n",
    "                # plus the element \"num\" in the array.\n",
    "                total += num\n",
    "\n",
    "                # If \"total\" is less than 1, we shall try a larger startValue,\n",
    "                # we mark \"isValid\" as \"false\" and break the current iteration.\n",
    "                if total < 1:\n",
    "                    is_valid = False\n",
    "                    break\n",
    "\n",
    "            # If \"isVaild\" is true, meaning \"total\" is never less than 1 in the\n",
    "            # iteration, therefore we return this \"startValue\". Otherwise, we \n",
    "            # go ahead and try \"startValue\" + 1 as the new \"startValue\". \n",
    "            if is_valid:\n",
    "                return start_value\n",
    "            else:\n",
    "                start_value += 1"
   ]
  },
  {
   "cell_type": "markdown",
   "metadata": {},
   "source": []
  }
 ],
 "metadata": {
  "language_info": {
   "name": "python"
  },
  "orig_nbformat": 4
 },
 "nbformat": 4,
 "nbformat_minor": 2
}
