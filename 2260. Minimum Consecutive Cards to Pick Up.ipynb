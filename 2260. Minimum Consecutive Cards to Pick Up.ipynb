{
 "cells": [
  {
   "cell_type": "markdown",
   "metadata": {},
   "source": [
    "You are given an integer array cards where cards[i] represents the value of the ith card. A pair of cards are matching if the cards have the same value.\n",
    "\n",
    "Return the minimum number of consecutive cards you have to pick up to have a pair of matching cards among the picked cards. If it is impossible to have matching cards, return -1.\n",
    "\n",
    " \n",
    "\n",
    "Example 1:\n",
    "\n",
    "Input: cards = [3,4,2,3,4,7]\n",
    "Output: 4\n",
    "Explanation: We can pick up the cards [3,4,2,3] which contain a matching pair of cards with value 3. Note that picking up the cards [4,2,3,4] is also optimal.\n",
    "Example 2:\n",
    "\n",
    "Input: cards = [1,0,5,3]\n",
    "Output: -1\n",
    "Explanation: There is no way to pick up a set of consecutive cards that contain a pair of matching cards.\n",
    " \n",
    "\n",
    "Constraints:\n",
    "\n",
    "1 <= cards.length <= 105\n",
    "0 <= cards[i] <= 106"
   ]
  },
  {
   "cell_type": "code",
   "execution_count": null,
   "metadata": {},
   "outputs": [],
   "source": [
    "from collections import defaultdict\n",
    "class Solution:\n",
    "    def minimumCardPickup(self, cards: List[int]) -> int:\n",
    "        \n",
    "        dic = defaultdict(list)\n",
    "        ans = float('inf')\n",
    "        for i in range(len(cards)):\n",
    "            \n",
    "            if cards[i] in dic:\n",
    "                ans = min(ans,i - dic[cards[i]] + 1)\n",
    "\n",
    "            dic[cards[i]] = i\n",
    "            \n",
    "        return ans if ans < float(\"inf\") else -1"
   ]
  }
 ],
 "metadata": {
  "language_info": {
   "name": "python"
  },
  "orig_nbformat": 4
 },
 "nbformat": 4,
 "nbformat_minor": 2
}
