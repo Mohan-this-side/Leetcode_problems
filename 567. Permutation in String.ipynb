{
 "cells": [
  {
   "cell_type": "markdown",
   "metadata": {},
   "source": [
    "Given two strings s1 and s2, return true if s2 contains a permutation of s1, or false otherwise.\n",
    "\n",
    "In other words, return true if one of s1's permutations is the substring of s2.\n",
    "\n",
    " \n",
    "\n",
    "Example 1:\n",
    "\n",
    "Input: s1 = \"ab\", s2 = \"eidbaooo\"\n",
    "Output: true\n",
    "Explanation: s2 contains one permutation of s1 (\"ba\").\n",
    "Example 2:\n",
    "\n",
    "Input: s1 = \"ab\", s2 = \"eidboaoo\"\n",
    "Output: false\n",
    " \n",
    "\n",
    "Constraints:\n",
    "\n",
    "1 <= s1.length, s2.length <= 104\n",
    "s1 and s2 consist of lowercase English letters."
   ]
  },
  {
   "cell_type": "code",
   "execution_count": null,
   "metadata": {},
   "outputs": [],
   "source": [
    "class Solution:\n",
    "    def checkInclusion(self, s1: str, s2: str) -> bool:\n",
    "        \n",
    "        if len(s1) > len(s2):\n",
    "            return False\n",
    "        counter1 = collections.Counter(s1)\n",
    "        counter2 = collections.Counter(s2[:len(s1)]) #keeping the slinding window's size same as s1\n",
    "\n",
    "        l = 0\n",
    "        for r in range(len(s1), len(s2)):\n",
    "            #while moving our window, we check both the hm are same\n",
    "            if counter1 == counter2:\n",
    "                return True\n",
    "            # removing one from left\n",
    "            counter2[s2[l]] -= 1\n",
    "            # adding one from right\n",
    "            counter2[s2[r]] += 1\n",
    "            # moving the sliding window \n",
    "            l += 1\n",
    "        #return if both are same or not, can be true if the last window is same as s1 else False\n",
    "        return counter1 == counter2"
   ]
  }
 ],
 "metadata": {
  "language_info": {
   "name": "python"
  },
  "orig_nbformat": 4
 },
 "nbformat": 4,
 "nbformat_minor": 2
}
