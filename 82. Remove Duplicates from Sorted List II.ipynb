{
 "cells": [
  {
   "cell_type": "markdown",
   "metadata": {},
   "source": [
    "Given the head of a sorted linked list, delete all nodes that have duplicate numbers, leaving only distinct numbers from the original list. Return the linked list sorted as well.\n",
    "\n",
    " \n",
    "\n",
    "Example 1:\n",
    "\n",
    "\n",
    "Input: head = [1,2,3,3,4,4,5]\n",
    "Output: [1,2,5]\n",
    "Example 2:\n",
    "\n",
    "\n",
    "Input: head = [1,1,1,2,3]\n",
    "Output: [2,3]\n",
    " \n",
    "\n",
    "Constraints:\n",
    "\n",
    "The number of nodes in the list is in the range [0, 300].\n",
    "-100 <= Node.val <= 100\n",
    "The list is guaranteed to be sorted in ascending order.\n"
   ]
  },
  {
   "cell_type": "code",
   "execution_count": null,
   "metadata": {},
   "outputs": [],
   "source": [
    "# Definition for singly-linked list.\n",
    "# class ListNode:\n",
    "#     def __init__(self, val=0, next=None):\n",
    "#         self.val = val\n",
    "#         self.next = next\n",
    "class Solution:\n",
    "    def deleteDuplicates(self, head: Optional[ListNode]) -> Optional[ListNode]:\n",
    "        dummy = ListNode(0,head)\n",
    "    # let this slow pointer be the slower point and head pointer be the faster one\n",
    "        slow = dummy\n",
    "        \n",
    "        while head:\n",
    "            if head.next and head.val == head.next.val:\n",
    "                while head.next and head.val == head.next.val:\n",
    "                    head = head.next\n",
    "                slow.next = head.next\n",
    "            else:\n",
    "                slow = slow.next\n",
    "            head = head.next\n",
    "        \n",
    "        return dummy.next"
   ]
  }
 ],
 "metadata": {
  "language_info": {
   "name": "python"
  },
  "orig_nbformat": 4
 },
 "nbformat": 4,
 "nbformat_minor": 2
}
