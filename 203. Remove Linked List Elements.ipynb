{
 "cells": [
  {
   "cell_type": "markdown",
   "metadata": {},
   "source": [
    "Given the head of a linked list and an integer val, remove all the nodes of the linked list that has Node.val == val, and return the new head.\n",
    "\n",
    " \n",
    "\n",
    "Example 1:\n",
    "\n",
    "\n",
    "Input: head = [1,2,6,3,4,5,6], val = 6\n",
    "Output: [1,2,3,4,5]\n",
    "Example 2:\n",
    "\n",
    "Input: head = [], val = 1\n",
    "Output: []\n",
    "Example 3:\n",
    "\n",
    "Input: head = [7,7,7,7], val = 7\n",
    "Output: []\n",
    " \n",
    "\n",
    "Constraints:\n",
    "\n",
    "The number of nodes in the list is in the range [0, 104].\n",
    "1 <= Node.val <= 50\n",
    "0 <= val <= 50"
   ]
  },
  {
   "cell_type": "code",
   "execution_count": null,
   "metadata": {},
   "outputs": [],
   "source": [
    "# Definition for singly-linked list.\n",
    "# class ListNode:\n",
    "#     def __init__(self, val=0, next=None):\n",
    "#         self.val = val\n",
    "#         self.next = next\n",
    "class Solution:\n",
    "    def removeElements(self, head: Optional[ListNode], val: int) -> Optional[ListNode]:\n",
    "        \n",
    "        prev = None\n",
    "        cur = head\n",
    "\n",
    "        while cur:\n",
    "            if cur.val == val:\n",
    "                #delete this node\n",
    "                if prev:\n",
    "                    prev.next = cur.next\n",
    "                else:\n",
    "                    #case where its the first node is equal to val\n",
    "                    head = cur.next\n",
    "                cur = cur.next # for all cases\n",
    "            else:\n",
    "                # go next\n",
    "                prev = cur\n",
    "                cur = cur.next\n",
    "        \n",
    "        return head"
   ]
  }
 ],
 "metadata": {
  "language_info": {
   "name": "python"
  },
  "orig_nbformat": 4
 },
 "nbformat": 4,
 "nbformat_minor": 2
}
