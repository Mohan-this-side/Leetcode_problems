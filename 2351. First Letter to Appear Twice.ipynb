{
 "cells": [
  {
   "cell_type": "markdown",
   "metadata": {},
   "source": [
    "Given a string s consisting of lowercase English letters, return the first letter to appear twice.\n",
    "\n",
    "Note:\n",
    "\n",
    "A letter a appears twice before another letter b if the second occurrence of a is before the second occurrence of b.\n",
    "s will contain at least one letter that appears twice.\n",
    " \n",
    "\n",
    "Example 1:\n",
    "\n",
    "Input: s = \"abccbaacz\"\n",
    "Output: \"c\"\n",
    "Explanation:\n",
    "The letter 'a' appears on the indexes 0, 5 and 6.\n",
    "The letter 'b' appears on the indexes 1 and 4.\n",
    "The letter 'c' appears on the indexes 2, 3 and 7.\n",
    "The letter 'z' appears on the index 8.\n",
    "The letter 'c' is the first letter to appear twice, because out of all the letters the index of its second occurrence is the smallest.\n",
    "Example 2:\n",
    "\n",
    "Input: s = \"abcdd\"\n",
    "Output: \"d\"\n",
    "Explanation:\n",
    "The only letter that appears twice is 'd' so we return 'd'.\n",
    " \n",
    "\n",
    "Constraints:\n",
    "\n",
    "2 <= s.length <= 100\n",
    "s consists of lowercase English letters.\n",
    "s has at least one repeated letter."
   ]
  },
  {
   "cell_type": "code",
   "execution_count": null,
   "metadata": {},
   "outputs": [],
   "source": [
    "class Solution:\n",
    "    def repeatedCharacter(self, s: str) -> str:\n",
    "        \n",
    "        seen = set()\n",
    "        for i in range(len(s)):\n",
    "\n",
    "            if s[i] in seen:\n",
    "                return s[i]\n",
    "\n",
    "            seen.add(s[i])"
   ]
  }
 ],
 "metadata": {
  "language_info": {
   "name": "python"
  },
  "orig_nbformat": 4
 },
 "nbformat": 4,
 "nbformat_minor": 2
}
