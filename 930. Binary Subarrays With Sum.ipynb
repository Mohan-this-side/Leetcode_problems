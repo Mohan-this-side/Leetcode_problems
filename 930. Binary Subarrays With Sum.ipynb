{
 "cells": [
  {
   "cell_type": "markdown",
   "metadata": {},
   "source": [
    "Given a binary array nums and an integer goal, return the number of non-empty subarrays with a sum goal.\n",
    "\n",
    "A subarray is a contiguous part of the array.\n",
    "\n",
    " \n",
    "\n",
    "Example 1:\n",
    "\n",
    "Input: nums = [1,0,1,0,1], goal = 2\n",
    "Output: 4\n",
    "Explanation: The 4 subarrays are bolded and underlined below:\n",
    "[1,0,1,0,1]\n",
    "[1,0,1,0,1]\n",
    "[1,0,1,0,1]\n",
    "[1,0,1,0,1]\n",
    "Example 2:\n",
    "\n",
    "Input: nums = [0,0,0,0,0], goal = 0\n",
    "Output: 15\n",
    " \n",
    "\n",
    "Constraints:\n",
    "\n",
    "1 <= nums.length <= 3 * 104\n",
    "nums[i] is either 0 or 1.\n",
    "0 <= goal <= nums.length"
   ]
  },
  {
   "cell_type": "code",
   "execution_count": null,
   "metadata": {},
   "outputs": [],
   "source": [
    "class Solution:\n",
    "    def numSubarraysWithSum(self, nums: List[int], goal: int) -> int:\n",
    "\n",
    "        pre_sum,count = 0,0  # PREFIX SUM and COUNT total num Subarrays With Sum\n",
    "        hm = defaultdict(int) #hashmap of PREFIX SUM and count of that prefix sum\n",
    "        hm[0] = 1 # IF goal and prefix sum matches at any point of time then count is 1. (pre_sum - goal == 0)\n",
    "\n",
    "        for j in range(len(nums)):\n",
    "            pre_sum += nums[j]\n",
    "\n",
    "            if pre_sum -goal in hm:  #If pre_sum-goal exists in hashmap i.e pre_sum = key + goal\n",
    "\n",
    "                count += hm[pre_sum -goal] ##if key exist n times then goal must have present n times. \n",
    "            if pre_sum in hm : \n",
    "                hm[pre_sum] += 1\n",
    "            else :\n",
    "                hm[pre_sum] = 1\n",
    "        return count"
   ]
  }
 ],
 "metadata": {
  "language_info": {
   "name": "python"
  },
  "orig_nbformat": 4
 },
 "nbformat": 4,
 "nbformat_minor": 2
}
