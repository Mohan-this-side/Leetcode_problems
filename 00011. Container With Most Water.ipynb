{
 "cells": [
  {
   "cell_type": "markdown",
   "metadata": {},
   "source": [
    "You are given an integer array height of length n. There are n vertical lines drawn such that the two endpoints of the ith line are (i, 0) and (i, height[i]).\n",
    "\n",
    "Find two lines that together with the x-axis form a container, such that the container contains the most water.\n",
    "\n",
    "Return the maximum amount of water a container can store.\n",
    "\n",
    "Notice that you may not slant the container.\n",
    "\n",
    " \n",
    "\n",
    "Example 1:\n",
    "\n",
    "\n",
    "Input: height = [1,8,6,2,5,4,8,3,7]\n",
    "Output: 49\n",
    "Explanation: The above vertical lines are represented by array [1,8,6,2,5,4,8,3,7]. In this case, the max area of water (blue section) the container can contain is 49.\n",
    "Example 2:\n",
    "\n",
    "Input: height = [1,1]\n",
    "Output: 1\n",
    " \n",
    "\n",
    "Constraints:\n",
    "\n",
    "n == height.length\n",
    "2 <= n <= 105\n",
    "0 <= height[i] <= 104"
   ]
  },
  {
   "cell_type": "code",
   "execution_count": null,
   "metadata": {},
   "outputs": [],
   "source": [
    "class Solution:\n",
    "    def maxArea(self, height: List[int]) -> int:\n",
    "        '''#brute force:\n",
    "        area = 0\n",
    "        for l in range(len(height)):\n",
    "            for r in range(l+1, len(height)):\n",
    "                area=max(area,min(height[l],height[r])*(r-l))\n",
    "\n",
    "        return area\n",
    "        '''\n",
    "        # O(n)\n",
    "        l, r = 0, len(height)-1 \n",
    "        area = 0\n",
    "        while l <r:\n",
    "            if height[l]>height[r]:\n",
    "                area=max(area,min(height[l],height[r])*(r-l)) \n",
    "                r -= 1 \n",
    "            else:\n",
    "                area=max(area,min(height[l],height[r])*(r-l))\n",
    "                l+= 1\n",
    "\n",
    "        return area"
   ]
  }
 ],
 "metadata": {
  "language_info": {
   "name": "python"
  },
  "orig_nbformat": 4
 },
 "nbformat": 4,
 "nbformat_minor": 2
}
