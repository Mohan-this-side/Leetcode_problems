{
 "cells": [
  {
   "cell_type": "markdown",
   "metadata": {},
   "source": [
    "643. Maximum Average Subarray I\n",
    "Easy\n",
    "2.9K\n",
    "238\n",
    "Companies\n",
    "You are given an integer array nums consisting of n elements, and an integer k.\n",
    "\n",
    "Find a contiguous subarray whose length is equal to k that has the maximum average value and return this value. Any answer with a calculation error less than 10-5 will be accepted.\n",
    "\n",
    " \n",
    "\n",
    "Example 1:\n",
    "\n",
    "Input: nums = [1,12,-5,-6,50,3], k = 4\n",
    "Output: 12.75000\n",
    "Explanation: Maximum average is (12 - 5 - 6 + 50) / 4 = 51 / 4 = 12.75\n",
    "Example 2:\n",
    "\n",
    "Input: nums = [5], k = 1\n",
    "Output: 5.00000"
   ]
  },
  {
   "cell_type": "code",
   "execution_count": 2,
   "metadata": {},
   "outputs": [
    {
     "ename": "NameError",
     "evalue": "name 'List' is not defined",
     "output_type": "error",
     "traceback": [
      "\u001b[0;31m---------------------------------------------------------------------------\u001b[0m",
      "\u001b[0;31mNameError\u001b[0m                                 Traceback (most recent call last)",
      "\u001b[1;32m/Users/mohan/USFCA/Leetcode/Leetcode_problems/Maximum_subarray_sum.ipynb Cell 2\u001b[0m in \u001b[0;36m<cell line: 1>\u001b[0;34m()\u001b[0m\n\u001b[0;32m----> <a href='vscode-notebook-cell:/Users/mohan/USFCA/Leetcode/Leetcode_problems/Maximum_subarray_sum.ipynb#W3sZmlsZQ%3D%3D?line=0'>1</a>\u001b[0m \u001b[39mclass\u001b[39;00m \u001b[39mSolution\u001b[39;00m:\n\u001b[1;32m      <a href='vscode-notebook-cell:/Users/mohan/USFCA/Leetcode/Leetcode_problems/Maximum_subarray_sum.ipynb#W3sZmlsZQ%3D%3D?line=1'>2</a>\u001b[0m     \u001b[39mdef\u001b[39;00m \u001b[39mfindMaxAverage\u001b[39m(\u001b[39mself\u001b[39m, nums: List[\u001b[39mint\u001b[39m], k: \u001b[39mint\u001b[39m) \u001b[39m-\u001b[39m\u001b[39m>\u001b[39m \u001b[39mfloat\u001b[39m:\n\u001b[1;32m      <a href='vscode-notebook-cell:/Users/mohan/USFCA/Leetcode/Leetcode_problems/Maximum_subarray_sum.ipynb#W3sZmlsZQ%3D%3D?line=3'>4</a>\u001b[0m         curr \u001b[39m=\u001b[39m \u001b[39m0\u001b[39m \n",
      "\u001b[1;32m/Users/mohan/USFCA/Leetcode/Leetcode_problems/Maximum_subarray_sum.ipynb Cell 2\u001b[0m in \u001b[0;36mSolution\u001b[0;34m()\u001b[0m\n\u001b[1;32m      <a href='vscode-notebook-cell:/Users/mohan/USFCA/Leetcode/Leetcode_problems/Maximum_subarray_sum.ipynb#W3sZmlsZQ%3D%3D?line=0'>1</a>\u001b[0m \u001b[39mclass\u001b[39;00m \u001b[39mSolution\u001b[39;00m:\n\u001b[0;32m----> <a href='vscode-notebook-cell:/Users/mohan/USFCA/Leetcode/Leetcode_problems/Maximum_subarray_sum.ipynb#W3sZmlsZQ%3D%3D?line=1'>2</a>\u001b[0m     \u001b[39mdef\u001b[39;00m \u001b[39mfindMaxAverage\u001b[39m(\u001b[39mself\u001b[39m, nums: List[\u001b[39mint\u001b[39m], k: \u001b[39mint\u001b[39m) \u001b[39m-\u001b[39m\u001b[39m>\u001b[39m \u001b[39mfloat\u001b[39m:\n\u001b[1;32m      <a href='vscode-notebook-cell:/Users/mohan/USFCA/Leetcode/Leetcode_problems/Maximum_subarray_sum.ipynb#W3sZmlsZQ%3D%3D?line=3'>4</a>\u001b[0m         curr \u001b[39m=\u001b[39m \u001b[39m0\u001b[39m \n\u001b[1;32m      <a href='vscode-notebook-cell:/Users/mohan/USFCA/Leetcode/Leetcode_problems/Maximum_subarray_sum.ipynb#W3sZmlsZQ%3D%3D?line=4'>5</a>\u001b[0m         ans \u001b[39m=\u001b[39m \u001b[39m0\u001b[39m\n",
      "\u001b[0;31mNameError\u001b[0m: name 'List' is not defined"
     ]
    }
   ],
   "source": [
    "class Solution:\n",
    "    def findMaxAverage(self, nums: List[int], k: int) -> float:\n",
    "        \n",
    "        curr = 0 \n",
    "        ans = 0\n",
    "        \n",
    "        for i in range (k):\n",
    "            curr += nums[i]\n",
    "        \n",
    "        ans = (curr/k)\n",
    "        \n",
    "        for i in range(k,len(nums)):\n",
    "            curr += nums[i]-nums[i-k]\n",
    "            ans = max(ans,curr/k)\n",
    "        \n",
    "        return ans"
   ]
  },
  {
   "cell_type": "code",
   "execution_count": null,
   "metadata": {},
   "outputs": [],
   "source": []
  }
 ],
 "metadata": {
  "kernelspec": {
   "display_name": "usf_env",
   "language": "python",
   "name": "python3"
  },
  "language_info": {
   "codemirror_mode": {
    "name": "ipython",
    "version": 3
   },
   "file_extension": ".py",
   "mimetype": "text/x-python",
   "name": "python",
   "nbconvert_exporter": "python",
   "pygments_lexer": "ipython3",
   "version": "3.10.4"
  },
  "orig_nbformat": 4
 },
 "nbformat": 4,
 "nbformat_minor": 2
}
