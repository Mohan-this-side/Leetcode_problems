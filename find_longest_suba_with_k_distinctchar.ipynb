{
 "cells": [
  {
   "cell_type": "markdown",
   "metadata": {},
   "source": [
    "Example 1: You are given a string s and an integer k. Find the length of the longest substring that contains at most k distinct characters.\n",
    "\n",
    "For example, given s = \"eceba\" and k = 2, return 3. The longest substring with at most 2 distinct characters is \"ece\"."
   ]
  },
  {
   "cell_type": "code",
   "execution_count": null,
   "metadata": {},
   "outputs": [],
   "source": [
    "from collections import defaultdict\n",
    "\n",
    "def find_longest_substring(s, k):\n",
    "    counts = defaultdict(int)\n",
    "\n",
    "    left = ans = 0\n",
    "\n",
    "    for right in range(len(s)):\n",
    "\n",
    "        counts[s[right]] += 1 \n",
    "        while len(counts)>k:\n",
    "            counts[s[left]] -= 1\n",
    "            if counts[s[left]] == 0:\n",
    "                del counts[s[left]]\n",
    "            left += 1\n",
    "\n",
    "        ans = max(ans, right - left +1)\n",
    "\n",
    "\n"
   ]
  }
 ],
 "metadata": {
  "language_info": {
   "name": "python"
  },
  "orig_nbformat": 4
 },
 "nbformat": 4,
 "nbformat_minor": 2
}
