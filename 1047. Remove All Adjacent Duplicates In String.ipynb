{
 "cells": [
  {
   "cell_type": "markdown",
   "metadata": {},
   "source": [
    "You are given a string s consisting of lowercase English letters. A duplicate removal consists of choosing two adjacent and equal letters and removing them.\n",
    "\n",
    "We repeatedly make duplicate removals on s until we no longer can.\n",
    "\n",
    "Return the final string after all such duplicate removals have been made. It can be proven that the answer is unique.\n",
    "\n",
    " \n",
    "\n",
    "Example 1:\n",
    "\n",
    "Input: s = \"abbaca\"\n",
    "Output: \"ca\"\n",
    "Explanation: \n",
    "For example, in \"abbaca\" we could remove \"bb\" since the letters are adjacent and equal, and this is the only possible move.  The result of this move is that the string is \"aaca\", of which only \"aa\" is possible, so the final string is \"ca\".\n",
    "Example 2:\n",
    "\n",
    "Input: s = \"azxxzy\"\n",
    "Output: \"ay\"\n",
    " \n",
    "\n",
    "Constraints:\n",
    "\n",
    "1 <= s.length <= 105\n",
    "s consists of lowercase English letters."
   ]
  },
  {
   "cell_type": "code",
   "execution_count": null,
   "metadata": {},
   "outputs": [],
   "source": [
    "class Solution:\n",
    "    def removeDuplicates(self, s: str) -> str:\n",
    "        #creat a stack\n",
    "        stack = []\n",
    "        for i in s:\n",
    "            #if the stack is empty or i in not equal to last element in stack, just add that element into the stack and pop otherwise\n",
    "            if stack==[] or i != stack[-1]:\n",
    "                stack.append(i)       \n",
    "            else:\n",
    "                stack.pop()\n",
    "        #add the result in a string format\n",
    "        result =\"\".join(stack)\n",
    "\n",
    "        return result"
   ]
  }
 ],
 "metadata": {
  "language_info": {
   "name": "python"
  },
  "orig_nbformat": 4
 },
 "nbformat": 4,
 "nbformat_minor": 2
}
