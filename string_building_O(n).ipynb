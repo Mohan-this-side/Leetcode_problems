{
 "cells": [
  {
   "cell_type": "markdown",
   "metadata": {},
   "source": [
    "# O(n) string building\n",
    "We mentioned earlier that in most languages, strings are immutable. This means concatenating a single character to a string is an \n",
    "O(n) operation. If you have a string that is 1 million characters long, and you want to add one more character, all 1 million characters need to be copied over to another string.\n",
    "\n",
    "Many problems will ask you to return a string, and usually, this string will be built during the algorithm. Let's say the final string is of length n and we build it one character at a time with concatenation. What would the time complexity be? The operations needed at each step would be 1 + 2 + 3 + ... + n. This is the partial sum of this series, which leads to \n",
    "O(n^2) operations.\n",
    "\n",
    "Simple concatenation will result in an O(n^2) time complexity if you are using a language where strings are immutable.\n",
    "\n",
    "There are better ways to build strings in just O(n) time. This will vary between languages - here, we'll talk about Python and Java - if you're using another language, we recommend researching the best way to build strings in your language."
   ]
  },
  {
   "cell_type": "code",
   "execution_count": null,
   "metadata": {},
   "outputs": [],
   "source": [
    "def build_string(s):\n",
    "    arr = []\n",
    "    for c in s:\n",
    "        arr.append(c)\n",
    "\n",
    "    return \"\".join(arr)"
   ]
  }
 ],
 "metadata": {
  "language_info": {
   "name": "python"
  },
  "orig_nbformat": 4
 },
 "nbformat": 4,
 "nbformat_minor": 2
}
