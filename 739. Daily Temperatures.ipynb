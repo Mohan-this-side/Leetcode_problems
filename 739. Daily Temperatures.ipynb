{
 "cells": [
  {
   "cell_type": "markdown",
   "metadata": {},
   "source": [
    "Given an array of integers temperatures represents the daily temperatures, return an array answer such that answer[i] is the number of days you have to wait after the ith day to get a warmer temperature. If there is no future day for which this is possible, keep answer[i] == 0 instead.\n",
    "\n",
    " \n",
    "\n",
    "Example 1:\n",
    "\n",
    "Input: temperatures = [73,74,75,71,69,72,76,73]\n",
    "Output: [1,1,4,2,1,1,0,0]\n",
    "Example 2:\n",
    "\n",
    "Input: temperatures = [30,40,50,60]\n",
    "Output: [1,1,1,0]\n",
    "Example 3:\n",
    "\n",
    "Input: temperatures = [30,60,90]\n",
    "Output: [1,1,0]\n",
    " \n",
    "\n",
    "Constraints:\n",
    "\n",
    "1 <= temperatures.length <= 105\n",
    "30 <= temperatures[i] <= 100"
   ]
  },
  {
   "cell_type": "code",
   "execution_count": null,
   "metadata": {},
   "outputs": [],
   "source": [
    "\n",
    "class Solution:\n",
    "    def dailyTemperatures(self, temperatures: List[int]) -> List[int]:\n",
    "        '''\n",
    "        Brute force solution :\n",
    "\n",
    "        arr = []\n",
    "        for i in range(len(temperatures)):\n",
    "            if i==len(temperatures)-1:\n",
    "                arr.append(0)\n",
    "            elif temperatures[i+1]>temperatures[i]:\n",
    "                arr.append(1)\n",
    "            else:\n",
    "                for j in range(i,len(temperatures)):\n",
    "                    if temperatures[j]>temperatures[i]:\n",
    "                        arr.append(j-i)\n",
    "                        break\n",
    "                    elif j==len(temperatures)-1:\n",
    "                        arr.append(0)\n",
    "        return arr\n",
    "\n",
    "        Optimised solution below:\n",
    "        '''\n",
    "        stack = []\n",
    "        ans = [0] * len(temperatures)\n",
    "        # store the indices of the temp in stack\n",
    "        # if the temp is warmer just pop that element and \n",
    "        # store its indices difference in the ans array\n",
    "        # as we just need the number of days to get warmer temp\n",
    "        for i in range(len(temperatures)):\n",
    "            while stack and temperatures[stack[-1]] < temperatures[i]:\n",
    "                j = stack.pop()\n",
    "                ans[j] = i - j\n",
    "            stack.append(i)\n",
    "\n",
    "        return ans\n"
   ]
  }
 ],
 "metadata": {
  "language_info": {
   "name": "python"
  },
  "orig_nbformat": 4
 },
 "nbformat": 4,
 "nbformat_minor": 2
}
