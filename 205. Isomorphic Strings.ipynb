{
 "cells": [
  {
   "cell_type": "markdown",
   "metadata": {},
   "source": [
    "Given two strings s and t, determine if they are isomorphic.\n",
    "\n",
    "Two strings s and t are isomorphic if the characters in s can be replaced to get t.\n",
    "\n",
    "All occurrences of a character must be replaced with another character while preserving the order of characters. No two characters may map to the same character, but a character may map to itself.\n",
    "\n",
    " \n",
    "\n",
    "Example 1:\n",
    "\n",
    "Input: s = \"egg\", t = \"add\"\n",
    "Output: true\n",
    "Example 2:\n",
    "\n",
    "Input: s = \"foo\", t = \"bar\"\n",
    "Output: false\n",
    "Example 3:\n",
    "\n",
    "Input: s = \"paper\", t = \"title\"\n",
    "Output: true\n",
    " \n",
    "\n",
    "Constraints:\n",
    "\n",
    "1 <= s.length <= 5 * 104\n",
    "t.length == s.length\n",
    "s and t consist of any valid ascii character."
   ]
  },
  {
   "cell_type": "code",
   "execution_count": null,
   "metadata": {},
   "outputs": [],
   "source": [
    "class Solution:\n",
    "    def isIsomorphic(self, s: str, t: str) -> bool:\n",
    "        '''\n",
    "        dic = defaultdict(int)\n",
    "        if len(set(s))!=len(set(t)):\n",
    "            return False\n",
    "\n",
    "        for i in range(len(t)):\n",
    "            if s[i] in dic and dic[s[i]]!=t[i]:\n",
    "                return False\n",
    "            curr = t[i]\n",
    "            dic[s[i]]=curr\n",
    "            \n",
    "        return True'''\n",
    "        mapST = {}\n",
    "        mapTS = {}\n",
    "\n",
    "        for c1,c2 in zip(s,t):\n",
    "            if (c1 in mapST and mapST[c1]!=c2) or (c2 in mapTS and mapTS[c2]!=c1):\n",
    "                return False\n",
    "\n",
    "            mapST[c1]=c2\n",
    "            mapTS[c2]=c1\n",
    "\n",
    "        return True\n",
    "        "
   ]
  }
 ],
 "metadata": {
  "language_info": {
   "name": "python"
  },
  "orig_nbformat": 4
 },
 "nbformat": 4,
 "nbformat_minor": 2
}
