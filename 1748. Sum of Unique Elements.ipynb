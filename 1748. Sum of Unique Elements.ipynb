{
 "cells": [
  {
   "cell_type": "markdown",
   "metadata": {},
   "source": [
    "You are given an integer array nums. The unique elements of an array are the elements that appear exactly once in the array.\n",
    "\n",
    "Return the sum of all the unique elements of nums.\n",
    "\n",
    " \n",
    "\n",
    "Example 1:\n",
    "\n",
    "Input: nums = [1,2,3,2]\n",
    "Output: 4\n",
    "Explanation: The unique elements are [1,3], and the sum is 4.\n",
    "Example 2:\n",
    "\n",
    "Input: nums = [1,1,1,1,1]\n",
    "Output: 0\n",
    "Explanation: There are no unique elements, and the sum is 0.\n",
    "Example 3:\n",
    "\n",
    "Input: nums = [1,2,3,4,5]\n",
    "Output: 15\n",
    "Explanation: The unique elements are [1,2,3,4,5], and the sum is 15.\n",
    " \n",
    "\n",
    "Constraints:\n",
    "\n",
    "1 <= nums.length <= 100\n",
    "1 <= nums[i] <= 100"
   ]
  },
  {
   "cell_type": "code",
   "execution_count": null,
   "metadata": {},
   "outputs": [],
   "source": [
    "class Solution:\n",
    "    def sumOfUnique(self, nums: List[int]) -> int:\n",
    "        \n",
    "        dic = defaultdict(int)\n",
    "\n",
    "        for i in nums:\n",
    "            dic[i] += 1\n",
    "        \n",
    "        sum = 0\n",
    "        for char , count in dic.items():\n",
    "            if count == 1:\n",
    "                sum = sum + int(char)\n",
    "            else:\n",
    "                pass\n",
    "        \n",
    "        return sum"
   ]
  }
 ],
 "metadata": {
  "language_info": {
   "name": "python"
  },
  "orig_nbformat": 4
 },
 "nbformat": 4,
 "nbformat_minor": 2
}
