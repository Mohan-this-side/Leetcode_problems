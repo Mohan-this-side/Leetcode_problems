{
 "cells": [
  {
   "cell_type": "markdown",
   "metadata": {},
   "source": [
    "Given two integer arrays pushed and popped each with distinct values, return true if this could have been the result of a sequence of push and pop operations on an initially empty stack, or false otherwise.\n",
    "\n",
    " \n",
    "\n",
    "Example 1:\n",
    "\n",
    "Input: pushed = [1,2,3,4,5], popped = [4,5,3,2,1]\n",
    "Output: true\n",
    "Explanation: We might do the following sequence:\n",
    "push(1), push(2), push(3), push(4),\n",
    "pop() -> 4,\n",
    "push(5),\n",
    "pop() -> 5, pop() -> 3, pop() -> 2, pop() -> 1\n",
    "Example 2:\n",
    "\n",
    "Input: pushed = [1,2,3,4,5], popped = [4,3,5,1,2]\n",
    "Output: false\n",
    "Explanation: 1 cannot be popped before 2.\n",
    " \n",
    "\n",
    "Constraints:\n",
    "\n",
    "1 <= pushed.length <= 1000\n",
    "0 <= pushed[i] <= 1000\n",
    "All the elements of pushed are unique.\n",
    "popped.length == pushed.length\n",
    "popped is a permutation of pushed."
   ]
  },
  {
   "cell_type": "code",
   "execution_count": null,
   "metadata": {},
   "outputs": [],
   "source": [
    "class Solution:\n",
    "    def validateStackSequences(self, pushed: List[int], popped: List[int]) -> bool:\n",
    "        stack = []\n",
    "        j = 0 \n",
    "        for i in pushed:\n",
    "            stack.append(i)\n",
    "            while stack and stack[-1] == popped[j]:\n",
    "                j+=1\n",
    "                stack.pop()\n",
    "\n",
    "        return len(stack)==0"
   ]
  }
 ],
 "metadata": {
  "language_info": {
   "name": "python"
  },
  "orig_nbformat": 4
 },
 "nbformat": 4,
 "nbformat_minor": 2
}
