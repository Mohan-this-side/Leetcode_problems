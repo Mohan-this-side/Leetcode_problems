{
 "cells": [
  {
   "cell_type": "markdown",
   "metadata": {},
   "source": [
    "Given the head of a singly linked list and two integers left and right where left <= right, reverse the nodes of the list from position left to position right, and return the reversed list.\n",
    "\n",
    " \n",
    "\n",
    "Example 1:\n",
    "\n",
    "\n",
    "Input: head = [1,2,3,4,5], left = 2, right = 4\n",
    "Output: [1,4,3,2,5]\n",
    "Example 2:\n",
    "\n",
    "Input: head = [5], left = 1, right = 1\n",
    "Output: [5]\n",
    " \n",
    "\n",
    "Constraints:\n",
    "\n",
    "The number of nodes in the list is n.\n",
    "1 <= n <= 500\n",
    "-500 <= Node.val <= 500\n",
    "1 <= left <= right <= n"
   ]
  },
  {
   "cell_type": "code",
   "execution_count": null,
   "metadata": {},
   "outputs": [],
   "source": [
    "# Definition for singly-linked list.\n",
    "# class ListNode:\n",
    "#     def __init__(self, val=0, next=None):\n",
    "#         self.val = val\n",
    "#         self.next = next\n",
    "class Solution:\n",
    "    def reverseBetween(self, head: Optional[ListNode], left: int, right: int) -> Optional[ListNode]:\n",
    "        dummy = ListNode(0,head)\n",
    "\n",
    "        # 1) reach node at position \"left\"\n",
    "        leftPrev, cur = dummy, head\n",
    "        for i in range(left-1):\n",
    "            leftPrev, cur = cur, cur.next\n",
    "\n",
    "        # Now cur=\"left\", leftPrev=\"node before left\"\n",
    "        # 2) reverse from left to right\n",
    "        Prev = None\n",
    "        for i in range(right-left+1):\n",
    "            tmp = cur.next\n",
    "            cur.next = Prev\n",
    "            Prev = cur\n",
    "            cur = tmp\n",
    "        \n",
    "        # 3) Update pointers\n",
    "        leftPrev.next.next = cur # cur is node after \"right\"\n",
    "        leftPrev.next = Prev # prev is \"right\"\n",
    "\n",
    "        return dummy.next\n"
   ]
  }
 ],
 "metadata": {
  "language_info": {
   "name": "python"
  },
  "orig_nbformat": 4
 },
 "nbformat": 4,
 "nbformat_minor": 2
}
