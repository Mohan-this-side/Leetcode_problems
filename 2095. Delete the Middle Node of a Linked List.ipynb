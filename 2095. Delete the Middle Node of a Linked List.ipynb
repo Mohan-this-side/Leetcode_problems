{
 "cells": [
  {
   "cell_type": "markdown",
   "metadata": {},
   "source": [
    "You are given the head of a linked list. Delete the middle node, and return the head of the modified linked list.\n",
    "\n",
    "The middle node of a linked list of size n is the ⌊n / 2⌋th node from the start using 0-based indexing, where ⌊x⌋ denotes the largest integer less than or equal to x.\n",
    "\n",
    "For n = 1, 2, 3, 4, and 5, the middle nodes are 0, 1, 1, 2, and 2, respectively.\n",
    " \n",
    "\n",
    "Example 1:\n",
    "\n",
    "\n",
    "Input: head = [1,3,4,7,1,2,6]\n",
    "Output: [1,3,4,1,2,6]\n",
    "Explanation:\n",
    "The above figure represents the given linked list. The indices of the nodes are written below.\n",
    "Since n = 7, node 3 with value 7 is the middle node, which is marked in red.\n",
    "We return the new list after removing this node. \n",
    "Example 2:\n",
    "\n",
    "\n",
    "Input: head = [1,2,3,4]\n",
    "Output: [1,2,4]\n",
    "Explanation:\n",
    "The above figure represents the given linked list.\n",
    "For n = 4, node 2 with value 3 is the middle node, which is marked in red.\n",
    "Example 3:\n",
    "\n",
    "\n",
    "Input: head = [2,1]\n",
    "Output: [2]\n",
    "Explanation:\n",
    "The above figure represents the given linked list.\n",
    "For n = 2, node 1 with value 1 is the middle node, which is marked in red.\n",
    "Node 0 with value 2 is the only node remaining after removing node 1.\n",
    " \n",
    "\n",
    "Constraints:\n",
    "\n",
    "The number of nodes in the list is in the range [1, 105].\n",
    "1 <= Node.val <= 105"
   ]
  },
  {
   "cell_type": "code",
   "execution_count": null,
   "metadata": {},
   "outputs": [],
   "source": [
    "# Definition for singly-linked list.\n",
    "# class ListNode:\n",
    "#     def __init__(self, val=0, next=None):\n",
    "#         self.val = val\n",
    "#         self.next = next\n",
    "class Solution:\n",
    "    def deleteMiddle(self, head: Optional[ListNode]) -> Optional[ListNode]:\n",
    "        \n",
    "        dummy = ListNode(0,head)\n",
    "        left = head\n",
    "        right = head\n",
    "        leftprev= dummy\n",
    "        # find the middle value and leftprev back of middle value\n",
    "        while right and right.next:\n",
    "            leftprev = left\n",
    "            right=right.next.next\n",
    "            left=left.next\n",
    "        #adjust the pointers \n",
    "        leftprev.next = left.next\n",
    "        left.next = None\n",
    "\n",
    "        return dummy.next"
   ]
  }
 ],
 "metadata": {
  "language_info": {
   "name": "python"
  },
  "orig_nbformat": 4
 },
 "nbformat": 4,
 "nbformat_minor": 2
}
