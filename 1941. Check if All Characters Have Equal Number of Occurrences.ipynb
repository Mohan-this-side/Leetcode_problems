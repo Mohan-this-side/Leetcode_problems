{
 "cells": [
  {
   "cell_type": "markdown",
   "metadata": {},
   "source": [
    "Given a string s, return true if s is a good string, or false otherwise.\n",
    "\n",
    "A string s is good if all the characters that appear in s have the same number of occurrences (i.e., the same frequency).\n",
    "\n",
    " \n",
    "\n",
    "Example 1:\n",
    "\n",
    "Input: s = \"abacbc\"\n",
    "Output: true\n",
    "Explanation: The characters that appear in s are 'a', 'b', and 'c'. All characters occur 2 times in s.\n",
    "Example 2:\n",
    "\n",
    "Input: s = \"aaabb\"\n",
    "Output: false\n",
    "Explanation: The characters that appear in s are 'a' and 'b'.\n",
    "'a' occurs 3 times while 'b' occurs 2 times, which is not the same number of times.\n",
    " \n",
    "\n",
    "Constraints:\n",
    "\n",
    "1 <= s.length <= 1000\n",
    "s consists of lowercase English letters."
   ]
  },
  {
   "cell_type": "code",
   "execution_count": null,
   "metadata": {},
   "outputs": [],
   "source": [
    "from collections import defaultdict\n",
    "\n",
    "class Solution:\n",
    "    def areOccurrencesEqual(self, s: str) -> bool:\n",
    "        \n",
    "        counts = defaultdict(int)\n",
    "\n",
    "        for i in s:\n",
    "            counts[i] += 1\n",
    "\n",
    "        frequencies = counts.values()\n",
    "        return len(set(frequencies))==1\n",
    "        "
   ]
  }
 ],
 "metadata": {
  "language_info": {
   "name": "python"
  },
  "orig_nbformat": 4
 },
 "nbformat": 4,
 "nbformat_minor": 2
}
