{
 "cells": [
  {
   "cell_type": "markdown",
   "metadata": {},
   "source": [
    "Design a stack that supports push, pop, top, and retrieving the minimum element in constant time.\n",
    "\n",
    "Implement the MinStack class:\n",
    "\n",
    "MinStack() initializes the stack object.\n",
    "void push(int val) pushes the element val onto the stack.\n",
    "void pop() removes the element on the top of the stack.\n",
    "int top() gets the top element of the stack.\n",
    "int getMin() retrieves the minimum element in the stack.\n",
    "You must implement a solution with O(1) time complexity for each function.\n",
    "\n",
    " \n",
    "\n",
    "Example 1:\n",
    "\n",
    "Input\n",
    "[\"MinStack\",\"push\",\"push\",\"push\",\"getMin\",\"pop\",\"top\",\"getMin\"]\n",
    "[[],[-2],[0],[-3],[],[],[],[]]\n",
    "\n",
    "Output\n",
    "[null,null,null,null,-3,null,0,-2]\n",
    "\n",
    "Explanation\n",
    "MinStack minStack = new MinStack();\n",
    "minStack.push(-2);\n",
    "minStack.push(0);\n",
    "minStack.push(-3);\n",
    "minStack.getMin(); // return -3\n",
    "minStack.pop();\n",
    "minStack.top();    // return 0\n",
    "minStack.getMin(); // return -2\n",
    " \n",
    "\n",
    "Constraints:\n",
    "\n",
    "-231 <= val <= 231 - 1\n",
    "Methods pop, top and getMin operations will always be called on non-empty stacks.\n",
    "At most 3 * 104 calls will be made to push, pop, top, and getMin.\n"
   ]
  },
  {
   "cell_type": "code",
   "execution_count": null,
   "metadata": {},
   "outputs": [],
   "source": [
    "class MinStack:\n",
    "\n",
    "    def __init__(self):\n",
    "        self.A = []\n",
    "        self.M = []\n",
    "    def push(self, x):\n",
    "        self.A.append(x)\n",
    "        self.M.append( x if not self.M else min(x, self.M[-1]) )\n",
    "    def pop(self):\n",
    "        self.A.pop()\n",
    "        self.M.pop()\n",
    "    def top(self):\n",
    "        return self.A[-1]\n",
    "    def getMin(self):\n",
    "        return self.M[-1]\n",
    "        \n",
    "# Your MinStack object will be instantiated and called as such:\n",
    "# obj = MinStack()\n",
    "# obj.push(val)\n",
    "# obj.pop()\n",
    "# param_3 = obj.top()\n",
    "# param_4 = obj.getMin()"
   ]
  }
 ],
 "metadata": {
  "language_info": {
   "name": "python"
  },
  "orig_nbformat": 4
 },
 "nbformat": 4,
 "nbformat_minor": 2
}
