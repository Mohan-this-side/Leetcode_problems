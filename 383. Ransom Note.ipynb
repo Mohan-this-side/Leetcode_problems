{
 "cells": [
  {
   "cell_type": "markdown",
   "metadata": {},
   "source": [
    "Given two strings ransomNote and magazine, return true if ransomNote can be constructed by using the letters from magazine and false otherwise.\n",
    "\n",
    "Each letter in magazine can only be used once in ransomNote.\n",
    "\n",
    " \n",
    "\n",
    "Example 1:\n",
    "\n",
    "Input: ransomNote = \"a\", magazine = \"b\"\n",
    "Output: false\n",
    "Example 2:\n",
    "\n",
    "Input: ransomNote = \"aa\", magazine = \"ab\"\n",
    "Output: false\n",
    "Example 3:\n",
    "\n",
    "Input: ransomNote = \"aa\", magazine = \"aab\"\n",
    "Output: true\n",
    " \n",
    "\n",
    "Constraints:\n",
    "\n",
    "1 <= ransomNote.length, magazine.length <= 105\n",
    "ransomNote and magazine consist of lowercase English letters."
   ]
  },
  {
   "cell_type": "markdown",
   "metadata": {},
   "source": [
    "### My Solution:"
   ]
  },
  {
   "cell_type": "code",
   "execution_count": null,
   "metadata": {},
   "outputs": [],
   "source": [
    "from collections import defaultdict\n",
    "\n",
    "class Solution:\n",
    "    def canConstruct(self, ransomNote: str, magazine: str) -> bool:\n",
    "        \n",
    "        dic = defaultdict(int)\n",
    "        for i in ransomNote:\n",
    "            dic[i]+=1\n",
    "        \n",
    "        dic2 = defaultdict(int)\n",
    "        for j in magazine:\n",
    "            dic2[j]+=1\n",
    "        \n",
    "        for k in ransomNote:\n",
    "            if k in dic2:\n",
    "                if dic2[k] < dic[k]:\n",
    "                    return False\n",
    "            else:\n",
    "                if k not in dic2:\n",
    "                    return False\n",
    "\n",
    "        \n",
    "        return True\n",
    "        "
   ]
  },
  {
   "cell_type": "markdown",
   "metadata": {},
   "source": [
    "### Official Solution:"
   ]
  },
  {
   "cell_type": "code",
   "execution_count": null,
   "metadata": {},
   "outputs": [],
   "source": [
    "class Solution:\n",
    "    def canConstruct(self, ransomNote: str, magazine: str) -> bool:\n",
    "\n",
    "\n",
    "    # Check for obvious fail case.\n",
    "        if len(ransomNote) > len(magazine): \n",
    "            return False\n",
    "\n",
    "    # In Python, we can use the Counter class. It does all the work that the\n",
    "    # makeCountsMap(...) function in our pseudocode did!\n",
    "        magazine_counts = collections.Counter(magazine)\n",
    "        ransom_note_counts = collections.Counter(ransomNote)\n",
    "    \n",
    "    # For each *unique* character in the ransom note:\n",
    "        for char, count in ransom_note_counts.items():\n",
    "        # Check that the count of char in the magazine is equal\n",
    "        # or higher than the count in the ransom note.\n",
    "            magazine_count = magazine_counts[char]\n",
    "            if magazine_count < count:\n",
    "                return False\n",
    "            \n",
    "    # If we got this far, we can successfully build the note.\n",
    "        return True"
   ]
  }
 ],
 "metadata": {
  "language_info": {
   "name": "python"
  },
  "orig_nbformat": 4
 },
 "nbformat": 4,
 "nbformat_minor": 2
}
