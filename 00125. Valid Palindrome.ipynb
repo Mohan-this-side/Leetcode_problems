{
 "cells": [
  {
   "cell_type": "markdown",
   "metadata": {},
   "source": [
    "A phrase is a palindrome if, after converting all uppercase letters into lowercase letters and removing all non-alphanumeric characters, it reads the same forward and backward. Alphanumeric characters include letters and numbers.\n",
    "\n",
    "Given a string s, return true if it is a palindrome, or false otherwise.\n",
    "\n",
    " \n",
    "\n",
    "Example 1:\n",
    "\n",
    "Input: s = \"A man, a plan, a canal: Panama\"\n",
    "Output: true\n",
    "Explanation: \"amanaplanacanalpanama\" is a palindrome.\n",
    "Example 2:\n",
    "\n",
    "Input: s = \"race a car\"\n",
    "Output: false\n",
    "Explanation: \"raceacar\" is not a palindrome.\n",
    "Example 3:\n",
    "\n",
    "Input: s = \" \"\n",
    "Output: true\n",
    "Explanation: s is an empty string \"\" after removing non-alphanumeric characters.\n",
    "Since an empty string reads the same forward and backward, it is a palindrome.\n",
    " \n",
    "\n",
    "Constraints:\n",
    "\n",
    "1 <= s.length <= 2 * 105\n",
    "s consists only of printable ASCII characters."
   ]
  },
  {
   "cell_type": "code",
   "execution_count": null,
   "metadata": {},
   "outputs": [],
   "source": [
    "class Solution:\n",
    "    def isPalindrome(self, s: str) -> bool:\n",
    "        \n",
    "        left = 0\n",
    "        right = len(s)-1\n",
    "\n",
    "        while left < right:\n",
    "            while left < right and s[left].isalnum() == False:\n",
    "                left += 1\n",
    "            while left < right and s[right].isalnum() == False:\n",
    "                right -= 1\n",
    "\n",
    "            if left > right or s[left].lower() != s[right].lower():\n",
    "                return False\n",
    "            else:\n",
    "                left += 1\n",
    "                right -= 1\n",
    "        return True\n",
    "        '''\n",
    "        # Could write own alpha-numeric function\n",
    "    def alphanum(self, c):\n",
    "        return (\n",
    "            ord(\"A\") <= ord(c) <= ord(\"Z\")\n",
    "            or ord(\"a\") <= ord(c) <= ord(\"z\")\n",
    "            or ord(\"0\") <= ord(c) <= ord(\"9\")\n",
    "        )\n",
    "        '''"
   ]
  }
 ],
 "metadata": {
  "language_info": {
   "name": "python"
  },
  "orig_nbformat": 4
 },
 "nbformat": 4,
 "nbformat_minor": 2
}
