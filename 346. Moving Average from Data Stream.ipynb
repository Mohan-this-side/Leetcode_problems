{
 "cells": [
  {
   "cell_type": "markdown",
   "metadata": {},
   "source": [
    "Given a stream of integers and a window size, calculate the moving average of all integers in the sliding window.\n",
    "\n",
    "Implement the MovingAverage class:\n",
    "\n",
    "MovingAverage(int size) Initializes the object with the size of the window size.\n",
    "double next(int val) Returns the moving average of the last size values of the stream.\n",
    " \n",
    "\n",
    "Example 1:\n",
    "\n",
    "Input\n",
    "[\"MovingAverage\", \"next\", \"next\", \"next\", \"next\"]\n",
    "[[3], [1], [10], [3], [5]]\n",
    "Output\n",
    "[null, 1.0, 5.5, 4.66667, 6.0]\n",
    "\n",
    "Explanation\n",
    "MovingAverage movingAverage = new MovingAverage(3);\n",
    "movingAverage.next(1); // return 1.0 = 1 / 1\n",
    "movingAverage.next(10); // return 5.5 = (1 + 10) / 2\n",
    "movingAverage.next(3); // return 4.66667 = (1 + 10 + 3) / 3\n",
    "movingAverage.next(5); // return 6.0 = (10 + 3 + 5) / 3\n",
    " \n",
    "\n",
    "Constraints:\n",
    "\n",
    "1 <= size <= 1000\n",
    "-105 <= val <= 105\n",
    "At most 104 calls will be made to next."
   ]
  },
  {
   "cell_type": "code",
   "execution_count": null,
   "metadata": {},
   "outputs": [],
   "source": [
    "from collections import deque\n",
    "class MovingAverage:\n",
    "\n",
    "    def __init__(self, size: int):\n",
    "        self.queue = deque()\n",
    "        self.size = size\n",
    "        self.count = 0\n",
    "        self.sum = float()\n",
    "\n",
    "    def next(self, val: int) -> float:\n",
    "        self.count += 1\n",
    "        self.queue.append(val)\n",
    "        # if the count is more that size\n",
    "        # just remove the first element\n",
    "        # also remove that element from the sum\n",
    "        if self.count > self.size:\n",
    "            tail = self.queue.popleft()\n",
    "        else:\n",
    "            tail = 0\n",
    "        self.sum += val - tail\n",
    "            \n",
    "        return float(self.sum/min(self.count,self.size))\n",
    "        \n",
    "# Your MovingAverage object will be instantiated and called as such:\n",
    "# obj = MovingAverage(size)\n",
    "# param_1 = obj.next(val)"
   ]
  }
 ],
 "metadata": {
  "language_info": {
   "name": "python"
  },
  "orig_nbformat": 4
 },
 "nbformat": 4,
 "nbformat_minor": 2
}
