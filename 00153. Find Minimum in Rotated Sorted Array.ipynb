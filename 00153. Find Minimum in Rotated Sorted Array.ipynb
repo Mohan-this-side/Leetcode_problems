{
 "cells": [
  {
   "cell_type": "markdown",
   "metadata": {},
   "source": [
    "Suppose an array of length n sorted in ascending order is rotated between 1 and n times. For example, the array nums = [0,1,2,4,5,6,7] might become:\n",
    "\n",
    "[4,5,6,7,0,1,2] if it was rotated 4 times.\n",
    "[0,1,2,4,5,6,7] if it was rotated 7 times.\n",
    "Notice that rotating an array [a[0], a[1], a[2], ..., a[n-1]] 1 time results in the array [a[n-1], a[0], a[1], a[2], ..., a[n-2]].\n",
    "\n",
    "Given the sorted rotated array nums of unique elements, return the minimum element of this array.\n",
    "\n",
    "You must write an algorithm that runs in O(log n) time.\n",
    "\n",
    " \n",
    "\n",
    "Example 1:\n",
    "\n",
    "Input: nums = [3,4,5,1,2]\n",
    "Output: 1\n",
    "Explanation: The original array was [1,2,3,4,5] rotated 3 times.\n",
    "Example 2:\n",
    "\n",
    "Input: nums = [4,5,6,7,0,1,2]\n",
    "Output: 0\n",
    "Explanation: The original array was [0,1,2,4,5,6,7] and it was rotated 4 times.\n",
    "Example 3:\n",
    "\n",
    "Input: nums = [11,13,15,17]\n",
    "Output: 11\n",
    "Explanation: The original array was [11,13,15,17] and it was rotated 4 times. \n",
    " \n",
    "\n",
    "Constraints:\n",
    "\n",
    "n == nums.length\n",
    "1 <= n <= 5000\n",
    "-5000 <= nums[i] <= 5000\n",
    "All the integers of nums are unique.\n",
    "nums is sorted and rotated between 1 and n times."
   ]
  },
  {
   "cell_type": "code",
   "execution_count": null,
   "metadata": {},
   "outputs": [],
   "source": [
    "class Solution:\n",
    "    def findMin(self, nums: List[int]) -> int:\n",
    "        start , end = 0, len(nums) - 1 \n",
    "        curr_min = float(\"inf\")\n",
    "        \n",
    "        while start  <  end :\n",
    "            mid = (start + end ) // 2\n",
    "            curr_min = min(curr_min,nums[mid])\n",
    "            \n",
    "            # right has the min \n",
    "            if nums[mid] > nums[end]:\n",
    "                start = mid + 1\n",
    "                \n",
    "            # left has the  min \n",
    "            else:\n",
    "                end = mid - 1 \n",
    "                \n",
    "        return min(curr_min,nums[start])"
   ]
  }
 ],
 "metadata": {
  "language_info": {
   "name": "python"
  },
  "orig_nbformat": 4
 },
 "nbformat": 4,
 "nbformat_minor": 2
}
