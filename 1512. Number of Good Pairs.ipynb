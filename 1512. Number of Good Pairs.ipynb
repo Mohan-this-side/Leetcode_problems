{
 "cells": [
  {
   "cell_type": "markdown",
   "metadata": {},
   "source": [
    "Given an array of integers nums, return the number of good pairs.\n",
    "\n",
    "A pair (i, j) is called good if nums[i] == nums[j] and i < j.\n",
    "\n",
    " \n",
    "\n",
    "Example 1:\n",
    "\n",
    "Input: nums = [1,2,3,1,1,3]\n",
    "Output: 4\n",
    "Explanation: There are 4 good pairs (0,3), (0,4), (3,4), (2,5) 0-indexed.\n",
    "Example 2:\n",
    "\n",
    "Input: nums = [1,1,1,1]\n",
    "Output: 6\n",
    "Explanation: Each pair in the array are good.\n",
    "Example 3:\n",
    "\n",
    "Input: nums = [1,2,3]\n",
    "Output: 0\n",
    " \n",
    "\n",
    "Constraints:\n",
    "\n",
    "1 <= nums.length <= 100\n",
    "1 <= nums[i] <= 100"
   ]
  },
  {
   "cell_type": "code",
   "execution_count": null,
   "metadata": {},
   "outputs": [],
   "source": [
    "class Solution:\n",
    "    def numIdenticalPairs(self, nums: List[int]) -> int:\n",
    "        # Create an empty dictionary to store the count of each number\n",
    "        hashMap = {}\n",
    "        # Initialize a count to keep track of the number of identical pairs\n",
    "        count = 0\n",
    "        # Iterate through each number in the input list 'nums'\n",
    "        for number in nums:\n",
    "            # If the current number is already present in the dictionary\n",
    "            if number in hashMap:\n",
    "                # Increase the 'count' by the value associated with the current number in the dictionary\n",
    "                count = count + hashMap[number]\n",
    "                # Increment the count associated with the current number in the dictionary\n",
    "                hashMap[number] += 1\n",
    "            else:\n",
    "                # If the current number is not present in the dictionary, add it with a count of 2\n",
    "                hashMap[number] = 1\n",
    "        # Return the final count of identical pairs\n",
    "        return count"
   ]
  }
 ],
 "metadata": {
  "language_info": {
   "name": "python"
  },
  "orig_nbformat": 4
 },
 "nbformat": 4,
 "nbformat_minor": 2
}
