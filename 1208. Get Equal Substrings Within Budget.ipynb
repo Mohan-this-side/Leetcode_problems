{
 "cells": [
  {
   "cell_type": "markdown",
   "metadata": {},
   "source": [
    "You are given two strings s and t of the same length and an integer maxCost.\n",
    "\n",
    "You want to change s to t. Changing the ith character of s to ith character of t costs |s[i] - t[i]| (i.e., the absolute difference between the ASCII values of the characters).\n",
    "\n",
    "Return the maximum length of a substring of s that can be changed to be the same as the corresponding substring of t with a cost less than or equal to maxCost. If there is no substring from s that can be changed to its corresponding substring from t, return 0.\n",
    "\n",
    " \n",
    "\n",
    "Example 1:\n",
    "\n",
    "Input: s = \"abcd\", t = \"bcdf\", maxCost = 3\n",
    "Output: 3\n",
    "Explanation: \"abc\" of s can change to \"bcd\".\n",
    "That costs 3, so the maximum length is 3.\n",
    "Example 2:\n",
    "\n",
    "Input: s = \"abcd\", t = \"cdef\", maxCost = 3\n",
    "Output: 1\n",
    "Explanation: Each character in s costs 2 to change to character in t,  so the maximum length is 1.\n",
    "Example 3:\n",
    "\n",
    "Input: s = \"abcd\", t = \"acde\", maxCost = 0\n",
    "Output: 1\n",
    "Explanation: You cannot make any change, so the maximum length is 1.\n",
    " \n",
    "\n",
    "Constraints:\n",
    "\n",
    "1 <= s.length <= 105\n",
    "t.length == s.length\n",
    "0 <= maxCost <= 106\n",
    "s and t consist of only lowercase English letters."
   ]
  },
  {
   "cell_type": "code",
   "execution_count": null,
   "metadata": {},
   "outputs": [],
   "source": [
    "class Solution:\n",
    "    def equalSubstring(self, s: str, t: str, maxCost: int) -> int:\n",
    "        res = 0\n",
    "        i = j = cost = 0\n",
    "        while j < len(s):\n",
    "            cost += abs(ord(s[j]) - ord(t[j]))\n",
    "            if cost > maxCost:\n",
    "                cost -= abs(ord(s[i]) - ord(t[i]))\n",
    "                i += 1\n",
    "            j += 1\n",
    "        return j - i\n",
    "\n"
   ]
  }
 ],
 "metadata": {
  "language_info": {
   "name": "python"
  },
  "orig_nbformat": 4
 },
 "nbformat": 4,
 "nbformat_minor": 2
}
